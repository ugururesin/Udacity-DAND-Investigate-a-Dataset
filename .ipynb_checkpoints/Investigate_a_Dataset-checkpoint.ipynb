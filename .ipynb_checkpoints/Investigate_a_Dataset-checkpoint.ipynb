{
 "cells": [
  {
   "cell_type": "markdown",
   "metadata": {},
   "source": [
    "# Project: Investigation of The Movie Database (TMDb)\n",
    "\n",
    "## Table of Contents\n",
    "<ul>\n",
    "<li><a href=\"#intro\">Introduction</a></li>\n",
    "<li><a href=\"#wrangling\">Data Wrangling</a></li>\n",
    "<li><a href=\"#eda\">Exploratory Data Analysis</a></li>\n",
    "<li><a href=\"#conclusions\">Conclusions</a></li>\n",
    "</ul>"
   ]
  },
  {
   "cell_type": "markdown",
   "metadata": {},
   "source": [
    "<a id='intro'></a>\n",
    "## Introduction\n",
    "\n",
    "### Dataset\n",
    "In this study, the TMDb movie dataset is used for data analysis. This dataset several information such as budget, revenue, cast, popularity etc. for the movies released between 1960 and 2015.\n",
    "\n",
    "Based on this data, following 10 research questions will be answered.\n",
    "\n",
    " *1: Which movie has longest runtime?<br>\n",
    " *2: Which movie has shorthest runtime?<br>\n",
    " *3: Does the most popular movie has the highest budget?<br>\n",
    " *4: What is the average profit for movies in TMDb?<br>\n",
    " *5 : What is the trend of the profit based on release years of the movies?<br>\n",
    " *6 : Is there a correlation between the budget and the revenue for the movies? How strong is this correlation?<br>\n",
    " *7 : Is there a correlation between the average vote and the revenue for the movies?<br>\n",
    " *8 : Is there a difference between old and new movies based on their average profits?<br>\n",
    " *9 : Which production companies make average more profit than others? Find the top 5 company.<br>\n",
    " *10 : Which movies make more money based on movie genre? Show the top 5 genres.<br>\n",
    "\n",
    "\n",
    "Some required Python packages are imported in the code-cell below:"
   ]
  },
  {
   "cell_type": "code",
   "execution_count": 256,
   "metadata": {},
   "outputs": [],
   "source": [
    "## IMPORTING PACKAGES\n",
    "import numpy as np\n",
    "import pandas as pd\n",
    "import seaborn as sns\n",
    "from scipy import stats\n",
    "from scipy.stats import spearmanr\n",
    "import matplotlib.pyplot as plt\n",
    "#to make sure that the visualizations pop up in Jupyter Notebook\n",
    "% matplotlib inline \n",
    "import operator"
   ]
  },
  {
   "cell_type": "markdown",
   "metadata": {},
   "source": [
    "<a id='wrangling'></a>\n",
    "## Data Wrangling\n",
    "\n",
    "In this section, the data is examined by using Python packages to make the dataset is ready for cleaning.<br>\n"
   ]
  },
  {
   "cell_type": "code",
   "execution_count": 257,
   "metadata": {
    "scrolled": true
   },
   "outputs": [
    {
     "name": "stdout",
     "output_type": "stream",
     "text": [
      "The number of rows is 10866 and the number of columns is 21\n",
      "\n"
     ]
    }
   ],
   "source": [
    "## DATA IMPORT and DIMENSIONS\n",
    "dfi = pd.read_csv('tmdb_movies.csv') #i stands for initial\n",
    "#\n",
    "msg1 = ('The number of rows is {} and the number of columns is {}\\n')\n",
    "out1 = msg1.format(dfi.shape[0], dfi.shape[1])\n",
    "print(out1)"
   ]
  },
  {
   "cell_type": "code",
   "execution_count": 258,
   "metadata": {},
   "outputs": [
    {
     "name": "stdout",
     "output_type": "stream",
     "text": [
      "\n",
      "The names of columns in the data are given below:\n",
      "\n",
      "['id', 'imdb_id', 'popularity', 'budget', 'revenue', 'original_title', 'cast', 'homepage', 'director', 'tagline', 'keywords', 'overview', 'runtime', 'genres', 'production_companies', 'release_date', 'vote_count', 'vote_average', 'release_year', 'budget_adj', 'revenue_adj']\n"
     ]
    }
   ],
   "source": [
    "## COLUMN NAMES\n",
    "msg2 = ('\\nThe names of columns in the data are given below:\\n\\n{}')\n",
    "out2 = msg2.format(list(dfi.columns))\n",
    "print(out2) #since head() won't show all columns!"
   ]
  },
  {
   "cell_type": "code",
   "execution_count": 259,
   "metadata": {},
   "outputs": [
    {
     "data": {
      "text/html": [
       "<div>\n",
       "<style scoped>\n",
       "    .dataframe tbody tr th:only-of-type {\n",
       "        vertical-align: middle;\n",
       "    }\n",
       "\n",
       "    .dataframe tbody tr th {\n",
       "        vertical-align: top;\n",
       "    }\n",
       "\n",
       "    .dataframe thead th {\n",
       "        text-align: right;\n",
       "    }\n",
       "</style>\n",
       "<table border=\"1\" class=\"dataframe\">\n",
       "  <thead>\n",
       "    <tr style=\"text-align: right;\">\n",
       "      <th></th>\n",
       "      <th>id</th>\n",
       "      <th>imdb_id</th>\n",
       "      <th>popularity</th>\n",
       "      <th>budget</th>\n",
       "      <th>revenue</th>\n",
       "      <th>original_title</th>\n",
       "      <th>cast</th>\n",
       "      <th>homepage</th>\n",
       "      <th>director</th>\n",
       "      <th>tagline</th>\n",
       "      <th>...</th>\n",
       "      <th>overview</th>\n",
       "      <th>runtime</th>\n",
       "      <th>genres</th>\n",
       "      <th>production_companies</th>\n",
       "      <th>release_date</th>\n",
       "      <th>vote_count</th>\n",
       "      <th>vote_average</th>\n",
       "      <th>release_year</th>\n",
       "      <th>budget_adj</th>\n",
       "      <th>revenue_adj</th>\n",
       "    </tr>\n",
       "  </thead>\n",
       "  <tbody>\n",
       "    <tr>\n",
       "      <th>0</th>\n",
       "      <td>135397</td>\n",
       "      <td>tt0369610</td>\n",
       "      <td>32.985763</td>\n",
       "      <td>150000000</td>\n",
       "      <td>1513528810</td>\n",
       "      <td>Jurassic World</td>\n",
       "      <td>Chris Pratt|Bryce Dallas Howard|Irrfan Khan|Vi...</td>\n",
       "      <td>http://www.jurassicworld.com/</td>\n",
       "      <td>Colin Trevorrow</td>\n",
       "      <td>The park is open.</td>\n",
       "      <td>...</td>\n",
       "      <td>Twenty-two years after the events of Jurassic ...</td>\n",
       "      <td>124</td>\n",
       "      <td>Action|Adventure|Science Fiction|Thriller</td>\n",
       "      <td>Universal Studios|Amblin Entertainment|Legenda...</td>\n",
       "      <td>6/9/15</td>\n",
       "      <td>5562</td>\n",
       "      <td>6.5</td>\n",
       "      <td>2015</td>\n",
       "      <td>1.379999e+08</td>\n",
       "      <td>1.392446e+09</td>\n",
       "    </tr>\n",
       "  </tbody>\n",
       "</table>\n",
       "<p>1 rows × 21 columns</p>\n",
       "</div>"
      ],
      "text/plain": [
       "       id    imdb_id  popularity     budget     revenue  original_title  \\\n",
       "0  135397  tt0369610   32.985763  150000000  1513528810  Jurassic World   \n",
       "\n",
       "                                                cast  \\\n",
       "0  Chris Pratt|Bryce Dallas Howard|Irrfan Khan|Vi...   \n",
       "\n",
       "                        homepage         director            tagline  \\\n",
       "0  http://www.jurassicworld.com/  Colin Trevorrow  The park is open.   \n",
       "\n",
       "       ...                                                overview runtime  \\\n",
       "0      ...       Twenty-two years after the events of Jurassic ...     124   \n",
       "\n",
       "                                      genres  \\\n",
       "0  Action|Adventure|Science Fiction|Thriller   \n",
       "\n",
       "                                production_companies release_date vote_count  \\\n",
       "0  Universal Studios|Amblin Entertainment|Legenda...       6/9/15       5562   \n",
       "\n",
       "   vote_average  release_year    budget_adj   revenue_adj  \n",
       "0           6.5          2015  1.379999e+08  1.392446e+09  \n",
       "\n",
       "[1 rows x 21 columns]"
      ]
     },
     "execution_count": 259,
     "metadata": {},
     "output_type": "execute_result"
    }
   ],
   "source": [
    "## INITIAL CHECK\n",
    "dfi.head(1) #the first row of the data "
   ]
  },
  {
   "cell_type": "code",
   "execution_count": 260,
   "metadata": {},
   "outputs": [
    {
     "data": {
      "text/html": [
       "<div>\n",
       "<style scoped>\n",
       "    .dataframe tbody tr th:only-of-type {\n",
       "        vertical-align: middle;\n",
       "    }\n",
       "\n",
       "    .dataframe tbody tr th {\n",
       "        vertical-align: top;\n",
       "    }\n",
       "\n",
       "    .dataframe thead th {\n",
       "        text-align: right;\n",
       "    }\n",
       "</style>\n",
       "<table border=\"1\" class=\"dataframe\">\n",
       "  <thead>\n",
       "    <tr style=\"text-align: right;\">\n",
       "      <th></th>\n",
       "      <th>id</th>\n",
       "      <th>imdb_id</th>\n",
       "      <th>popularity</th>\n",
       "      <th>budget</th>\n",
       "      <th>revenue</th>\n",
       "      <th>original_title</th>\n",
       "      <th>cast</th>\n",
       "      <th>homepage</th>\n",
       "      <th>director</th>\n",
       "      <th>tagline</th>\n",
       "      <th>...</th>\n",
       "      <th>overview</th>\n",
       "      <th>runtime</th>\n",
       "      <th>genres</th>\n",
       "      <th>production_companies</th>\n",
       "      <th>release_date</th>\n",
       "      <th>vote_count</th>\n",
       "      <th>vote_average</th>\n",
       "      <th>release_year</th>\n",
       "      <th>budget_adj</th>\n",
       "      <th>revenue_adj</th>\n",
       "    </tr>\n",
       "  </thead>\n",
       "  <tbody>\n",
       "    <tr>\n",
       "      <th>10865</th>\n",
       "      <td>22293</td>\n",
       "      <td>tt0060666</td>\n",
       "      <td>0.035919</td>\n",
       "      <td>19000</td>\n",
       "      <td>0</td>\n",
       "      <td>Manos: The Hands of Fate</td>\n",
       "      <td>Harold P. Warren|Tom Neyman|John Reynolds|Dian...</td>\n",
       "      <td>NaN</td>\n",
       "      <td>Harold P. Warren</td>\n",
       "      <td>It's Shocking! It's Beyond Your Imagination!</td>\n",
       "      <td>...</td>\n",
       "      <td>A family gets lost on the road and stumbles up...</td>\n",
       "      <td>74</td>\n",
       "      <td>Horror</td>\n",
       "      <td>Norm-Iris</td>\n",
       "      <td>11/15/66</td>\n",
       "      <td>15</td>\n",
       "      <td>1.5</td>\n",
       "      <td>1966</td>\n",
       "      <td>127642.279154</td>\n",
       "      <td>0.0</td>\n",
       "    </tr>\n",
       "  </tbody>\n",
       "</table>\n",
       "<p>1 rows × 21 columns</p>\n",
       "</div>"
      ],
      "text/plain": [
       "          id    imdb_id  popularity  budget  revenue  \\\n",
       "10865  22293  tt0060666    0.035919   19000        0   \n",
       "\n",
       "                 original_title  \\\n",
       "10865  Manos: The Hands of Fate   \n",
       "\n",
       "                                                    cast homepage  \\\n",
       "10865  Harold P. Warren|Tom Neyman|John Reynolds|Dian...      NaN   \n",
       "\n",
       "               director                                       tagline  \\\n",
       "10865  Harold P. Warren  It's Shocking! It's Beyond Your Imagination!   \n",
       "\n",
       "          ...                                                overview runtime  \\\n",
       "10865     ...       A family gets lost on the road and stumbles up...      74   \n",
       "\n",
       "       genres production_companies release_date vote_count  vote_average  \\\n",
       "10865  Horror            Norm-Iris     11/15/66         15           1.5   \n",
       "\n",
       "       release_year     budget_adj  revenue_adj  \n",
       "10865          1966  127642.279154          0.0  \n",
       "\n",
       "[1 rows x 21 columns]"
      ]
     },
     "execution_count": 260,
     "metadata": {},
     "output_type": "execute_result"
    }
   ],
   "source": [
    "## INITIAL CHECK\n",
    "dfi.tail(1) #the last row of the data "
   ]
  },
  {
   "cell_type": "markdown",
   "metadata": {},
   "source": [
    "**Comments on Initial Data Checks**<br>\n",
    "In some columns the phrases (strings) are separated by '|' character. <br>\n",
    "In those columns, there are phrases in which exist multiple words with spaces\n",
    "(e.g. <font color='red'>'Village Roadshow Pictures'</font> ).<br>"
   ]
  },
  {
   "cell_type": "code",
   "execution_count": 261,
   "metadata": {},
   "outputs": [
    {
     "name": "stdout",
     "output_type": "stream",
     "text": [
      "<class 'pandas.core.frame.DataFrame'>\n",
      "RangeIndex: 10866 entries, 0 to 10865\n",
      "Data columns (total 21 columns):\n",
      "id                      10866 non-null int64\n",
      "imdb_id                 10856 non-null object\n",
      "popularity              10866 non-null float64\n",
      "budget                  10866 non-null int64\n",
      "revenue                 10866 non-null int64\n",
      "original_title          10866 non-null object\n",
      "cast                    10790 non-null object\n",
      "homepage                2936 non-null object\n",
      "director                10822 non-null object\n",
      "tagline                 8042 non-null object\n",
      "keywords                9373 non-null object\n",
      "overview                10862 non-null object\n",
      "runtime                 10866 non-null int64\n",
      "genres                  10843 non-null object\n",
      "production_companies    9836 non-null object\n",
      "release_date            10866 non-null object\n",
      "vote_count              10866 non-null int64\n",
      "vote_average            10866 non-null float64\n",
      "release_year            10866 non-null int64\n",
      "budget_adj              10866 non-null float64\n",
      "revenue_adj             10866 non-null float64\n",
      "dtypes: float64(4), int64(6), object(11)\n",
      "memory usage: 1.7+ MB\n"
     ]
    }
   ],
   "source": [
    "## MORE INFO on INITIAL DATASET\n",
    "dfi.info();"
   ]
  },
  {
   "cell_type": "markdown",
   "metadata": {},
   "source": [
    "As it can be seen in the info above, some of the columns have missing data.<br>"
   ]
  },
  {
   "cell_type": "markdown",
   "metadata": {},
   "source": [
    "**Comments on Missing Data**<br>\n",
    "It seems that some of the attributes have missing data (e.g. homepage, tagline, keywords etc.).<br>\n",
    "Handling this missing values will be discussed in 'Data Cleaning' section."
   ]
  },
  {
   "cell_type": "markdown",
   "metadata": {},
   "source": [
    "Last but not the least, let's have a look for the some statistics about the data."
   ]
  },
  {
   "cell_type": "code",
   "execution_count": 262,
   "metadata": {},
   "outputs": [
    {
     "data": {
      "text/html": [
       "<div>\n",
       "<style scoped>\n",
       "    .dataframe tbody tr th:only-of-type {\n",
       "        vertical-align: middle;\n",
       "    }\n",
       "\n",
       "    .dataframe tbody tr th {\n",
       "        vertical-align: top;\n",
       "    }\n",
       "\n",
       "    .dataframe thead th {\n",
       "        text-align: right;\n",
       "    }\n",
       "</style>\n",
       "<table border=\"1\" class=\"dataframe\">\n",
       "  <thead>\n",
       "    <tr style=\"text-align: right;\">\n",
       "      <th></th>\n",
       "      <th>id</th>\n",
       "      <th>popularity</th>\n",
       "      <th>budget</th>\n",
       "      <th>revenue</th>\n",
       "      <th>runtime</th>\n",
       "      <th>vote_count</th>\n",
       "      <th>vote_average</th>\n",
       "      <th>release_year</th>\n",
       "      <th>budget_adj</th>\n",
       "      <th>revenue_adj</th>\n",
       "    </tr>\n",
       "  </thead>\n",
       "  <tbody>\n",
       "    <tr>\n",
       "      <th>count</th>\n",
       "      <td>10866.000000</td>\n",
       "      <td>10866.000000</td>\n",
       "      <td>1.086600e+04</td>\n",
       "      <td>1.086600e+04</td>\n",
       "      <td>10866.000000</td>\n",
       "      <td>10866.000000</td>\n",
       "      <td>10866.000000</td>\n",
       "      <td>10866.000000</td>\n",
       "      <td>1.086600e+04</td>\n",
       "      <td>1.086600e+04</td>\n",
       "    </tr>\n",
       "    <tr>\n",
       "      <th>mean</th>\n",
       "      <td>66064.177434</td>\n",
       "      <td>0.646441</td>\n",
       "      <td>1.462570e+07</td>\n",
       "      <td>3.982332e+07</td>\n",
       "      <td>102.070863</td>\n",
       "      <td>217.389748</td>\n",
       "      <td>5.974922</td>\n",
       "      <td>2001.322658</td>\n",
       "      <td>1.755104e+07</td>\n",
       "      <td>5.136436e+07</td>\n",
       "    </tr>\n",
       "    <tr>\n",
       "      <th>std</th>\n",
       "      <td>92130.136561</td>\n",
       "      <td>1.000185</td>\n",
       "      <td>3.091321e+07</td>\n",
       "      <td>1.170035e+08</td>\n",
       "      <td>31.381405</td>\n",
       "      <td>575.619058</td>\n",
       "      <td>0.935142</td>\n",
       "      <td>12.812941</td>\n",
       "      <td>3.430616e+07</td>\n",
       "      <td>1.446325e+08</td>\n",
       "    </tr>\n",
       "    <tr>\n",
       "      <th>min</th>\n",
       "      <td>5.000000</td>\n",
       "      <td>0.000065</td>\n",
       "      <td>0.000000e+00</td>\n",
       "      <td>0.000000e+00</td>\n",
       "      <td>0.000000</td>\n",
       "      <td>10.000000</td>\n",
       "      <td>1.500000</td>\n",
       "      <td>1960.000000</td>\n",
       "      <td>0.000000e+00</td>\n",
       "      <td>0.000000e+00</td>\n",
       "    </tr>\n",
       "    <tr>\n",
       "      <th>25%</th>\n",
       "      <td>10596.250000</td>\n",
       "      <td>0.207583</td>\n",
       "      <td>0.000000e+00</td>\n",
       "      <td>0.000000e+00</td>\n",
       "      <td>90.000000</td>\n",
       "      <td>17.000000</td>\n",
       "      <td>5.400000</td>\n",
       "      <td>1995.000000</td>\n",
       "      <td>0.000000e+00</td>\n",
       "      <td>0.000000e+00</td>\n",
       "    </tr>\n",
       "    <tr>\n",
       "      <th>50%</th>\n",
       "      <td>20669.000000</td>\n",
       "      <td>0.383856</td>\n",
       "      <td>0.000000e+00</td>\n",
       "      <td>0.000000e+00</td>\n",
       "      <td>99.000000</td>\n",
       "      <td>38.000000</td>\n",
       "      <td>6.000000</td>\n",
       "      <td>2006.000000</td>\n",
       "      <td>0.000000e+00</td>\n",
       "      <td>0.000000e+00</td>\n",
       "    </tr>\n",
       "    <tr>\n",
       "      <th>75%</th>\n",
       "      <td>75610.000000</td>\n",
       "      <td>0.713817</td>\n",
       "      <td>1.500000e+07</td>\n",
       "      <td>2.400000e+07</td>\n",
       "      <td>111.000000</td>\n",
       "      <td>145.750000</td>\n",
       "      <td>6.600000</td>\n",
       "      <td>2011.000000</td>\n",
       "      <td>2.085325e+07</td>\n",
       "      <td>3.369710e+07</td>\n",
       "    </tr>\n",
       "    <tr>\n",
       "      <th>max</th>\n",
       "      <td>417859.000000</td>\n",
       "      <td>32.985763</td>\n",
       "      <td>4.250000e+08</td>\n",
       "      <td>2.781506e+09</td>\n",
       "      <td>900.000000</td>\n",
       "      <td>9767.000000</td>\n",
       "      <td>9.200000</td>\n",
       "      <td>2015.000000</td>\n",
       "      <td>4.250000e+08</td>\n",
       "      <td>2.827124e+09</td>\n",
       "    </tr>\n",
       "  </tbody>\n",
       "</table>\n",
       "</div>"
      ],
      "text/plain": [
       "                  id    popularity        budget       revenue       runtime  \\\n",
       "count   10866.000000  10866.000000  1.086600e+04  1.086600e+04  10866.000000   \n",
       "mean    66064.177434      0.646441  1.462570e+07  3.982332e+07    102.070863   \n",
       "std     92130.136561      1.000185  3.091321e+07  1.170035e+08     31.381405   \n",
       "min         5.000000      0.000065  0.000000e+00  0.000000e+00      0.000000   \n",
       "25%     10596.250000      0.207583  0.000000e+00  0.000000e+00     90.000000   \n",
       "50%     20669.000000      0.383856  0.000000e+00  0.000000e+00     99.000000   \n",
       "75%     75610.000000      0.713817  1.500000e+07  2.400000e+07    111.000000   \n",
       "max    417859.000000     32.985763  4.250000e+08  2.781506e+09    900.000000   \n",
       "\n",
       "         vote_count  vote_average  release_year    budget_adj   revenue_adj  \n",
       "count  10866.000000  10866.000000  10866.000000  1.086600e+04  1.086600e+04  \n",
       "mean     217.389748      5.974922   2001.322658  1.755104e+07  5.136436e+07  \n",
       "std      575.619058      0.935142     12.812941  3.430616e+07  1.446325e+08  \n",
       "min       10.000000      1.500000   1960.000000  0.000000e+00  0.000000e+00  \n",
       "25%       17.000000      5.400000   1995.000000  0.000000e+00  0.000000e+00  \n",
       "50%       38.000000      6.000000   2006.000000  0.000000e+00  0.000000e+00  \n",
       "75%      145.750000      6.600000   2011.000000  2.085325e+07  3.369710e+07  \n",
       "max     9767.000000      9.200000   2015.000000  4.250000e+08  2.827124e+09  "
      ]
     },
     "execution_count": 262,
     "metadata": {},
     "output_type": "execute_result"
    }
   ],
   "source": [
    "dfi.describe()"
   ]
  },
  {
   "cell_type": "markdown",
   "metadata": {},
   "source": [
    "Some of the statistics seem odd!<br>\n",
    "For example, minimum runtime is zero! Clearly there are missing information in the dataset.<br>\n",
    "In the next section, the dataset will be cleaned and re-organized!"
   ]
  },
  {
   "cell_type": "markdown",
   "metadata": {},
   "source": [
    "### Data Cleaning"
   ]
  },
  {
   "cell_type": "markdown",
   "metadata": {},
   "source": [
    "In this section, the initial dataset (dfi) will be cleaned and re-organized<br>\n",
    "<br>\n",
    "In any part of this study, we may want to have a look the initial dataset.<br>\n",
    "Thus, let's keep the initial dataset and do data cleaning with a spare of it."
   ]
  },
  {
   "cell_type": "code",
   "execution_count": 263,
   "metadata": {},
   "outputs": [],
   "source": [
    "## HAVING a SPARE of INITIAL DATA\n",
    "df = dfi"
   ]
  },
  {
   "cell_type": "markdown",
   "metadata": {},
   "source": [
    "Let's check the number of duplicated in the dataframe and revome them!"
   ]
  },
  {
   "cell_type": "code",
   "execution_count": 264,
   "metadata": {},
   "outputs": [
    {
     "name": "stdout",
     "output_type": "stream",
     "text": [
      "The number of duplicates is \"1\" and removed from the data!\n"
     ]
    }
   ],
   "source": [
    "# REMOVING DUPLICATES\n",
    "dupn = sum(df.duplicated())\n",
    "df.drop_duplicates(inplace=True) \n",
    "msg3 = ('The number of duplicates is \"{}\" and removed from the data!')\n",
    "out3 = msg3.format(dupn)\n",
    "print(out3)"
   ]
  },
  {
   "cell_type": "markdown",
   "metadata": {},
   "source": [
    "Now, let's check missing values in the dataset!"
   ]
  },
  {
   "cell_type": "code",
   "execution_count": 265,
   "metadata": {},
   "outputs": [
    {
     "name": "stdout",
     "output_type": "stream",
     "text": [
      "The columns that has missing values and corresponding number of missing values are shown below:\n"
     ]
    },
    {
     "data": {
      "text/plain": [
       "[('imdb_id', 10),\n",
       " ('cast', 76),\n",
       " ('homepage', 7929),\n",
       " ('director', 44),\n",
       " ('tagline', 2824),\n",
       " ('keywords', 1493),\n",
       " ('overview', 4),\n",
       " ('genres', 23),\n",
       " ('production_companies', 1030)]"
      ]
     },
     "execution_count": 265,
     "metadata": {},
     "output_type": "execute_result"
    }
   ],
   "source": [
    "## Calculation of Missing Values for Each Attribute\n",
    "miscol_dfi = dfi.columns[dfi.isnull().any()].tolist()\n",
    "misnum_dfi = list()\n",
    "for i in range(0,len(miscol_dfi)):\n",
    "    misnum_dfi.append(dfi.shape[0]-dfi.apply(lambda x: x.count(), axis=0)[miscol_dfi[i]])\n",
    "print(\"The columns that has missing values and corresponding number of missing values are shown below:\")\n",
    "list(zip(miscol_dfi, misnum_dfi))"
   ]
  },
  {
   "cell_type": "markdown",
   "metadata": {},
   "source": [
    "**DATA COLUMNS**\n",
    "\n",
    "The final two columns ending with “_adj” show the budget and revenue of the associated movie in terms of 2010 dollars, accounting for inflation over time. It wouldn't be interes of point for our research questions.\n",
    "\n",
    "Regarding our research questions, let's remove the unnecessary columns!\n",
    "These colums are irrelevant to our research questions:\n",
    "* imdb_id, homepage, tagline, budget_adj, revenue_adj<br>"
   ]
  },
  {
   "cell_type": "code",
   "execution_count": 266,
   "metadata": {},
   "outputs": [],
   "source": [
    "df.drop(['imdb_id','homepage','tagline','budget_adj','revenue_adj'], axis=1, inplace=True)"
   ]
  },
  {
   "cell_type": "markdown",
   "metadata": {},
   "source": [
    "Let's check the number of missing values again."
   ]
  },
  {
   "cell_type": "code",
   "execution_count": 267,
   "metadata": {},
   "outputs": [
    {
     "name": "stdout",
     "output_type": "stream",
     "text": [
      "<class 'pandas.core.frame.DataFrame'>\n",
      "Int64Index: 10865 entries, 0 to 10865\n",
      "Data columns (total 16 columns):\n",
      "id                      10865 non-null int64\n",
      "popularity              10865 non-null float64\n",
      "budget                  10865 non-null int64\n",
      "revenue                 10865 non-null int64\n",
      "original_title          10865 non-null object\n",
      "cast                    10789 non-null object\n",
      "director                10821 non-null object\n",
      "keywords                9372 non-null object\n",
      "overview                10861 non-null object\n",
      "runtime                 10865 non-null int64\n",
      "genres                  10842 non-null object\n",
      "production_companies    9835 non-null object\n",
      "release_date            10865 non-null object\n",
      "vote_count              10865 non-null int64\n",
      "vote_average            10865 non-null float64\n",
      "release_year            10865 non-null int64\n",
      "dtypes: float64(2), int64(6), object(8)\n",
      "memory usage: 1.4+ MB\n"
     ]
    }
   ],
   "source": [
    "df.info();"
   ]
  },
  {
   "cell_type": "markdown",
   "metadata": {},
   "source": [
    "**Dropping NA Values**\n",
    "There are some NA values in the dataset<br>\n",
    "Let's also drop the rows in which ther are NA values!"
   ]
  },
  {
   "cell_type": "code",
   "execution_count": 268,
   "metadata": {},
   "outputs": [
    {
     "name": "stdout",
     "output_type": "stream",
     "text": [
      "Now the number of rows are reduced to 8666\n"
     ]
    }
   ],
   "source": [
    "df.dropna(axis=0, inplace=True)\n",
    "print('Now the number of rows are reduced to',df.shape[0])"
   ]
  },
  {
   "cell_type": "markdown",
   "metadata": {},
   "source": [
    "Let's also check **data types**!"
   ]
  },
  {
   "cell_type": "code",
   "execution_count": 269,
   "metadata": {},
   "outputs": [
    {
     "name": "stdout",
     "output_type": "stream",
     "text": [
      "<class 'pandas.core.frame.DataFrame'>\n",
      "Int64Index: 8666 entries, 0 to 10865\n",
      "Data columns (total 16 columns):\n",
      "id                      8666 non-null int64\n",
      "popularity              8666 non-null float64\n",
      "budget                  8666 non-null int64\n",
      "revenue                 8666 non-null int64\n",
      "original_title          8666 non-null object\n",
      "cast                    8666 non-null object\n",
      "director                8666 non-null object\n",
      "keywords                8666 non-null object\n",
      "overview                8666 non-null object\n",
      "runtime                 8666 non-null int64\n",
      "genres                  8666 non-null object\n",
      "production_companies    8666 non-null object\n",
      "release_date            8666 non-null object\n",
      "vote_count              8666 non-null int64\n",
      "vote_average            8666 non-null float64\n",
      "release_year            8666 non-null int64\n",
      "dtypes: float64(2), int64(6), object(8)\n",
      "memory usage: 1.1+ MB\n"
     ]
    }
   ],
   "source": [
    "df.info()"
   ]
  },
  {
   "cell_type": "markdown",
   "metadata": {},
   "source": [
    "The type of release_date is string.<br>\n",
    "We should convert it's type to datetime.\n"
   ]
  },
  {
   "cell_type": "code",
   "execution_count": 270,
   "metadata": {},
   "outputs": [],
   "source": [
    "df['release_date'] = pd.to_datetime(df['release_date'])"
   ]
  },
  {
   "cell_type": "code",
   "execution_count": 271,
   "metadata": {},
   "outputs": [
    {
     "data": {
      "text/plain": [
       "0   2015-06-09\n",
       "1   2015-05-13\n",
       "2   2015-03-18\n",
       "Name: release_date, dtype: datetime64[ns]"
      ]
     },
     "execution_count": 271,
     "metadata": {},
     "output_type": "execute_result"
    }
   ],
   "source": [
    "df['release_date'].head(3)"
   ]
  },
  {
   "cell_type": "markdown",
   "metadata": {},
   "source": [
    "Let's check some statistics at this point."
   ]
  },
  {
   "cell_type": "code",
   "execution_count": 272,
   "metadata": {},
   "outputs": [
    {
     "data": {
      "text/html": [
       "<div>\n",
       "<style scoped>\n",
       "    .dataframe tbody tr th:only-of-type {\n",
       "        vertical-align: middle;\n",
       "    }\n",
       "\n",
       "    .dataframe tbody tr th {\n",
       "        vertical-align: top;\n",
       "    }\n",
       "\n",
       "    .dataframe thead th {\n",
       "        text-align: right;\n",
       "    }\n",
       "</style>\n",
       "<table border=\"1\" class=\"dataframe\">\n",
       "  <thead>\n",
       "    <tr style=\"text-align: right;\">\n",
       "      <th></th>\n",
       "      <th>id</th>\n",
       "      <th>popularity</th>\n",
       "      <th>budget</th>\n",
       "      <th>revenue</th>\n",
       "      <th>runtime</th>\n",
       "      <th>vote_count</th>\n",
       "      <th>vote_average</th>\n",
       "      <th>release_year</th>\n",
       "    </tr>\n",
       "  </thead>\n",
       "  <tbody>\n",
       "    <tr>\n",
       "      <th>count</th>\n",
       "      <td>8666.000000</td>\n",
       "      <td>8666.000000</td>\n",
       "      <td>8.666000e+03</td>\n",
       "      <td>8.666000e+03</td>\n",
       "      <td>8666.000000</td>\n",
       "      <td>8666.000000</td>\n",
       "      <td>8666.000000</td>\n",
       "      <td>8666.000000</td>\n",
       "    </tr>\n",
       "    <tr>\n",
       "      <th>mean</th>\n",
       "      <td>57003.179206</td>\n",
       "      <td>0.741937</td>\n",
       "      <td>1.770937e+07</td>\n",
       "      <td>4.924863e+07</td>\n",
       "      <td>103.815140</td>\n",
       "      <td>264.204823</td>\n",
       "      <td>6.003612</td>\n",
       "      <td>2000.129818</td>\n",
       "    </tr>\n",
       "    <tr>\n",
       "      <th>std</th>\n",
       "      <td>86242.565745</td>\n",
       "      <td>1.087657</td>\n",
       "      <td>3.357362e+07</td>\n",
       "      <td>1.289529e+08</td>\n",
       "      <td>26.207186</td>\n",
       "      <td>635.195808</td>\n",
       "      <td>0.893539</td>\n",
       "      <td>13.221278</td>\n",
       "    </tr>\n",
       "    <tr>\n",
       "      <th>min</th>\n",
       "      <td>5.000000</td>\n",
       "      <td>0.000188</td>\n",
       "      <td>0.000000e+00</td>\n",
       "      <td>0.000000e+00</td>\n",
       "      <td>0.000000</td>\n",
       "      <td>10.000000</td>\n",
       "      <td>1.500000</td>\n",
       "      <td>1960.000000</td>\n",
       "    </tr>\n",
       "    <tr>\n",
       "      <th>25%</th>\n",
       "      <td>9816.750000</td>\n",
       "      <td>0.249990</td>\n",
       "      <td>0.000000e+00</td>\n",
       "      <td>0.000000e+00</td>\n",
       "      <td>91.000000</td>\n",
       "      <td>20.000000</td>\n",
       "      <td>5.500000</td>\n",
       "      <td>1993.000000</td>\n",
       "    </tr>\n",
       "    <tr>\n",
       "      <th>50%</th>\n",
       "      <td>16216.500000</td>\n",
       "      <td>0.449377</td>\n",
       "      <td>1.500000e+06</td>\n",
       "      <td>1.793820e+05</td>\n",
       "      <td>100.000000</td>\n",
       "      <td>54.000000</td>\n",
       "      <td>6.100000</td>\n",
       "      <td>2004.000000</td>\n",
       "    </tr>\n",
       "    <tr>\n",
       "      <th>75%</th>\n",
       "      <td>54003.000000</td>\n",
       "      <td>0.842984</td>\n",
       "      <td>2.100000e+07</td>\n",
       "      <td>3.890269e+07</td>\n",
       "      <td>113.000000</td>\n",
       "      <td>200.000000</td>\n",
       "      <td>6.600000</td>\n",
       "      <td>2011.000000</td>\n",
       "    </tr>\n",
       "    <tr>\n",
       "      <th>max</th>\n",
       "      <td>417859.000000</td>\n",
       "      <td>32.985763</td>\n",
       "      <td>4.250000e+08</td>\n",
       "      <td>2.781506e+09</td>\n",
       "      <td>705.000000</td>\n",
       "      <td>9767.000000</td>\n",
       "      <td>8.700000</td>\n",
       "      <td>2015.000000</td>\n",
       "    </tr>\n",
       "  </tbody>\n",
       "</table>\n",
       "</div>"
      ],
      "text/plain": [
       "                  id   popularity        budget       revenue      runtime  \\\n",
       "count    8666.000000  8666.000000  8.666000e+03  8.666000e+03  8666.000000   \n",
       "mean    57003.179206     0.741937  1.770937e+07  4.924863e+07   103.815140   \n",
       "std     86242.565745     1.087657  3.357362e+07  1.289529e+08    26.207186   \n",
       "min         5.000000     0.000188  0.000000e+00  0.000000e+00     0.000000   \n",
       "25%      9816.750000     0.249990  0.000000e+00  0.000000e+00    91.000000   \n",
       "50%     16216.500000     0.449377  1.500000e+06  1.793820e+05   100.000000   \n",
       "75%     54003.000000     0.842984  2.100000e+07  3.890269e+07   113.000000   \n",
       "max    417859.000000    32.985763  4.250000e+08  2.781506e+09   705.000000   \n",
       "\n",
       "        vote_count  vote_average  release_year  \n",
       "count  8666.000000   8666.000000   8666.000000  \n",
       "mean    264.204823      6.003612   2000.129818  \n",
       "std     635.195808      0.893539     13.221278  \n",
       "min      10.000000      1.500000   1960.000000  \n",
       "25%      20.000000      5.500000   1993.000000  \n",
       "50%      54.000000      6.100000   2004.000000  \n",
       "75%     200.000000      6.600000   2011.000000  \n",
       "max    9767.000000      8.700000   2015.000000  "
      ]
     },
     "execution_count": 272,
     "metadata": {},
     "output_type": "execute_result"
    }
   ],
   "source": [
    "df.describe()"
   ]
  },
  {
   "cell_type": "markdown",
   "metadata": {},
   "source": [
    "As you can see in the table above, the min values are 0 for the following columns:<br>\n",
    "* budget\n",
    "* revenue\n",
    "* runtime<br>\n",
    "\n",
    "It's obvious that there are also missing values as given 0 in this dataset!<br>\n",
    "Let's assign the proportion of those rows in the dataset."
   ]
  },
  {
   "cell_type": "code",
   "execution_count": 273,
   "metadata": {},
   "outputs": [
    {
     "name": "stdout",
     "output_type": "stream",
     "text": [
      "The number of rows in which the budget equals zero is 3940 and the proportion is 0.45!\n",
      "The number of rows in which the revenue equals zero is 4130 and the proportion is 0.48!\n",
      "The number of rows in which the runtime equals zero is 7 and the proportion is 0.00!\n"
     ]
    }
   ],
   "source": [
    "## NUMBER of ROWS in which the BUDGET equals ZERO!\n",
    "msg4 = ('The number of rows in which the budget equals zero is {} and the proportion is {}!')\n",
    "n_budzero = df[df['budget']==0].shape[0]\n",
    "p_budzero = n_budzero/df.shape[0]\n",
    "out4 = msg4.format(n_budzero, \"{0:.2f}\".format(p_budzero))\n",
    "print(out4)\n",
    "## NUMBER of ROWS in which the REVENUE equals ZERO!\n",
    "msg5 = ('The number of rows in which the revenue equals zero is {} and the proportion is {}!')\n",
    "n_revzero = df[df['revenue']==0].shape[0]\n",
    "p_revzero = n_revzero/df.shape[0]\n",
    "out5 = msg5.format(n_revzero, \"{0:.2f}\".format(p_revzero))\n",
    "print(out5)\n",
    "## NUMBER of ROWS in which the RUNTIME equals ZERO!\n",
    "msg6 = ('The number of rows in which the runtime equals zero is {} and the proportion is {}!')\n",
    "n_runzero = df[df['runtime']==0].shape[0]\n",
    "p_runzero = n_runzero/df.shape[0]\n",
    "out6 = msg6.format(n_runzero, \"{0:.2f}\".format(p_runzero))\n",
    "print(out6)"
   ]
  },
  {
   "cell_type": "markdown",
   "metadata": {},
   "source": [
    "Since the proportion of the rows in which some attributes equal zero is high, one approach is imputing those rows.<br>\n",
    "However, both budget and revenue can be affected by so many factors and some of those factor might be unknown!<br>\n",
    "Imputing those rows by mean, median etc. may lead to produce wrong conclusions!<br>\n",
    "\n",
    "Although the proportion of these rows is high in the dataset, removing those rows will prevent to have wrong results!<br>\n",
    "Thus, those rows are removed from the dataset!\n"
   ]
  },
  {
   "cell_type": "code",
   "execution_count": 274,
   "metadata": {},
   "outputs": [
    {
     "name": "stdout",
     "output_type": "stream",
     "text": [
      "<class 'pandas.core.frame.DataFrame'>\n",
      "Int64Index: 3677 entries, 0 to 10848\n",
      "Data columns (total 16 columns):\n",
      "id                      3677 non-null int64\n",
      "popularity              3677 non-null float64\n",
      "budget                  3677 non-null float64\n",
      "revenue                 3677 non-null float64\n",
      "original_title          3677 non-null object\n",
      "cast                    3677 non-null object\n",
      "director                3677 non-null object\n",
      "keywords                3677 non-null object\n",
      "overview                3677 non-null object\n",
      "runtime                 3677 non-null float64\n",
      "genres                  3677 non-null object\n",
      "production_companies    3677 non-null object\n",
      "release_date            3677 non-null datetime64[ns]\n",
      "vote_count              3677 non-null int64\n",
      "vote_average            3677 non-null float64\n",
      "release_year            3677 non-null int64\n",
      "dtypes: datetime64[ns](1), float64(5), int64(3), object(7)\n",
      "memory usage: 488.4+ KB\n"
     ]
    }
   ],
   "source": [
    "zero_cols = ['budget','revenue','runtime']\n",
    "df[zero_cols] = df[zero_cols].replace(0,np.NAN)\n",
    "df.dropna(axis=0, inplace=True)\n",
    "df.info();"
   ]
  },
  {
   "cell_type": "markdown",
   "metadata": {},
   "source": [
    "**FINDING THE UNITS**<br>\n",
    "Avatar is a very popular movie and we can easily find the it's revenue and also it's runtime.<br>\n",
    "According to https://en.wikipedia.org/wiki/Avatar_(2009_film), the revenue of Avatar movie is **~2.78 billion US dollars** and it's runtime is **161 minutes!**<br>\n",
    "Let's check our dataset to see whether those units are valid for our dataset!\n"
   ]
  },
  {
   "cell_type": "code",
   "execution_count": 275,
   "metadata": {},
   "outputs": [
    {
     "name": "stdout",
     "output_type": "stream",
     "text": [
      "For Avatar movie, the revenue is 2781505847.0 and the runtime is 162.0 in this dataset!\n"
     ]
    }
   ],
   "source": [
    "rev_avatar = float(df[df['original_title']=='Avatar'].revenue)\n",
    "run_avatar = float(df[df['original_title']=='Avatar'].runtime)\n",
    "print(\"For Avatar movie, the revenue is {} and the runtime is {} in this dataset!\".format(rev_avatar,run_avatar))"
   ]
  },
  {
   "cell_type": "markdown",
   "metadata": {},
   "source": [
    "It seems that **the monetary unit is US dollar** and **the runtime unit is minutes** in this dataset!<br>\n",
    "<br>\n",
    "Now, let's have a second look to our dataset to see whether there are any odd numbers according to those units!"
   ]
  },
  {
   "cell_type": "code",
   "execution_count": 276,
   "metadata": {},
   "outputs": [
    {
     "data": {
      "text/html": [
       "<div>\n",
       "<style scoped>\n",
       "    .dataframe tbody tr th:only-of-type {\n",
       "        vertical-align: middle;\n",
       "    }\n",
       "\n",
       "    .dataframe tbody tr th {\n",
       "        vertical-align: top;\n",
       "    }\n",
       "\n",
       "    .dataframe thead th {\n",
       "        text-align: right;\n",
       "    }\n",
       "</style>\n",
       "<table border=\"1\" class=\"dataframe\">\n",
       "  <thead>\n",
       "    <tr style=\"text-align: right;\">\n",
       "      <th></th>\n",
       "      <th>id</th>\n",
       "      <th>popularity</th>\n",
       "      <th>budget</th>\n",
       "      <th>revenue</th>\n",
       "      <th>runtime</th>\n",
       "      <th>vote_count</th>\n",
       "      <th>vote_average</th>\n",
       "      <th>release_year</th>\n",
       "    </tr>\n",
       "  </thead>\n",
       "  <tbody>\n",
       "    <tr>\n",
       "      <th>count</th>\n",
       "      <td>3677.000000</td>\n",
       "      <td>3677.000000</td>\n",
       "      <td>3.677000e+03</td>\n",
       "      <td>3.677000e+03</td>\n",
       "      <td>3677.000000</td>\n",
       "      <td>3677.000000</td>\n",
       "      <td>3677.000000</td>\n",
       "      <td>3677.000000</td>\n",
       "    </tr>\n",
       "    <tr>\n",
       "      <th>mean</th>\n",
       "      <td>39224.526244</td>\n",
       "      <td>1.226051</td>\n",
       "      <td>3.811465e+07</td>\n",
       "      <td>1.114405e+08</td>\n",
       "      <td>109.561327</td>\n",
       "      <td>547.702203</td>\n",
       "      <td>6.182758</td>\n",
       "      <td>2001.091923</td>\n",
       "    </tr>\n",
       "    <tr>\n",
       "      <th>std</th>\n",
       "      <td>67249.633137</td>\n",
       "      <td>1.498897</td>\n",
       "      <td>4.267577e+07</td>\n",
       "      <td>1.793625e+08</td>\n",
       "      <td>19.855075</td>\n",
       "      <td>894.954704</td>\n",
       "      <td>0.789610</td>\n",
       "      <td>11.380391</td>\n",
       "    </tr>\n",
       "    <tr>\n",
       "      <th>min</th>\n",
       "      <td>5.000000</td>\n",
       "      <td>0.010335</td>\n",
       "      <td>1.000000e+00</td>\n",
       "      <td>2.000000e+00</td>\n",
       "      <td>26.000000</td>\n",
       "      <td>10.000000</td>\n",
       "      <td>2.200000</td>\n",
       "      <td>1960.000000</td>\n",
       "    </tr>\n",
       "    <tr>\n",
       "      <th>25%</th>\n",
       "      <td>5470.000000</td>\n",
       "      <td>0.481276</td>\n",
       "      <td>1.000000e+07</td>\n",
       "      <td>1.489942e+07</td>\n",
       "      <td>96.000000</td>\n",
       "      <td>78.000000</td>\n",
       "      <td>5.700000</td>\n",
       "      <td>1995.000000</td>\n",
       "    </tr>\n",
       "    <tr>\n",
       "      <th>50%</th>\n",
       "      <td>11017.000000</td>\n",
       "      <td>0.830597</td>\n",
       "      <td>2.500000e+07</td>\n",
       "      <td>4.806344e+07</td>\n",
       "      <td>106.000000</td>\n",
       "      <td>219.000000</td>\n",
       "      <td>6.200000</td>\n",
       "      <td>2004.000000</td>\n",
       "    </tr>\n",
       "    <tr>\n",
       "      <th>75%</th>\n",
       "      <td>37958.000000</td>\n",
       "      <td>1.411147</td>\n",
       "      <td>5.000000e+07</td>\n",
       "      <td>1.298324e+08</td>\n",
       "      <td>120.000000</td>\n",
       "      <td>596.000000</td>\n",
       "      <td>6.700000</td>\n",
       "      <td>2010.000000</td>\n",
       "    </tr>\n",
       "    <tr>\n",
       "      <th>max</th>\n",
       "      <td>417859.000000</td>\n",
       "      <td>32.985763</td>\n",
       "      <td>4.250000e+08</td>\n",
       "      <td>2.781506e+09</td>\n",
       "      <td>338.000000</td>\n",
       "      <td>9767.000000</td>\n",
       "      <td>8.400000</td>\n",
       "      <td>2015.000000</td>\n",
       "    </tr>\n",
       "  </tbody>\n",
       "</table>\n",
       "</div>"
      ],
      "text/plain": [
       "                  id   popularity        budget       revenue      runtime  \\\n",
       "count    3677.000000  3677.000000  3.677000e+03  3.677000e+03  3677.000000   \n",
       "mean    39224.526244     1.226051  3.811465e+07  1.114405e+08   109.561327   \n",
       "std     67249.633137     1.498897  4.267577e+07  1.793625e+08    19.855075   \n",
       "min         5.000000     0.010335  1.000000e+00  2.000000e+00    26.000000   \n",
       "25%      5470.000000     0.481276  1.000000e+07  1.489942e+07    96.000000   \n",
       "50%     11017.000000     0.830597  2.500000e+07  4.806344e+07   106.000000   \n",
       "75%     37958.000000     1.411147  5.000000e+07  1.298324e+08   120.000000   \n",
       "max    417859.000000    32.985763  4.250000e+08  2.781506e+09   338.000000   \n",
       "\n",
       "        vote_count  vote_average  release_year  \n",
       "count  3677.000000   3677.000000   3677.000000  \n",
       "mean    547.702203      6.182758   2001.091923  \n",
       "std     894.954704      0.789610     11.380391  \n",
       "min      10.000000      2.200000   1960.000000  \n",
       "25%      78.000000      5.700000   1995.000000  \n",
       "50%     219.000000      6.200000   2004.000000  \n",
       "75%     596.000000      6.700000   2010.000000  \n",
       "max    9767.000000      8.400000   2015.000000  "
      ]
     },
     "execution_count": 276,
     "metadata": {},
     "output_type": "execute_result"
    }
   ],
   "source": [
    "df.describe()"
   ]
  },
  {
   "cell_type": "markdown",
   "metadata": {},
   "source": [
    "According to table above, the minimum values for budget, revenue and runtime seem odd!<br>\n",
    "* The minimum budget is *only 1 USD*!\n",
    "* The minimum revenue is *only 2 USD*!<br>\n",
    "<br>\n",
    "It's almost impossible to create a movie with only 1 USD bugdet and make only 2 USD revenue!<br>\n",
    "This might be a typo. Maybe, 1 means 1 million USD but we can not know based on this data.<br>\n",
    "Let's check the data whether there are further odd rows."
   ]
  },
  {
   "cell_type": "code",
   "execution_count": 277,
   "metadata": {},
   "outputs": [
    {
     "data": {
      "image/png": "[encoded data removed]",
      "text/plain": [
       "<matplotlib.figure.Figure at 0x7f4f80301828>"
      ]
     },
     "metadata": {
      "needs_background": "light"
     },
     "output_type": "display_data"
    }
   ],
   "source": [
    "df.boxplot(column=['budget','revenue'],fontsize=15);"
   ]
  },
  {
   "cell_type": "markdown",
   "metadata": {},
   "source": [
    "In order to increase the visibility, let's take the rows in which the budget and revenue values are more than 1 million USD.<br>\n",
    "According to boxplots above, some of the budget and revenue values are extremely low."
   ]
  },
  {
   "cell_type": "code",
   "execution_count": 278,
   "metadata": {},
   "outputs": [
    {
     "data": {
      "image/png": "[encoded data removed]",
      "text/plain": [
       "<matplotlib.figure.Figure at 0x7f4f80333fd0>"
      ]
     },
     "metadata": {
      "needs_background": "light"
     },
     "output_type": "display_data"
    }
   ],
   "source": [
    "bud_low = df[(df['budget']<int(1e6)) & (df['revenue']<int(1e6))]\n",
    "bud_low.boxplot(column=['budget','revenue'],fontsize=15);"
   ]
  },
  {
   "cell_type": "markdown",
   "metadata": {},
   "source": [
    "Let's also check the summary statistics of the sub-data in which the budget is less than 1 million USD!"
   ]
  },
  {
   "cell_type": "code",
   "execution_count": 279,
   "metadata": {},
   "outputs": [
    {
     "data": {
      "text/html": [
       "<div>\n",
       "<style scoped>\n",
       "    .dataframe tbody tr th:only-of-type {\n",
       "        vertical-align: middle;\n",
       "    }\n",
       "\n",
       "    .dataframe tbody tr th {\n",
       "        vertical-align: top;\n",
       "    }\n",
       "\n",
       "    .dataframe thead th {\n",
       "        text-align: right;\n",
       "    }\n",
       "</style>\n",
       "<table border=\"1\" class=\"dataframe\">\n",
       "  <thead>\n",
       "    <tr style=\"text-align: right;\">\n",
       "      <th></th>\n",
       "      <th>id</th>\n",
       "      <th>popularity</th>\n",
       "      <th>budget</th>\n",
       "      <th>revenue</th>\n",
       "      <th>runtime</th>\n",
       "      <th>vote_count</th>\n",
       "      <th>vote_average</th>\n",
       "      <th>release_year</th>\n",
       "    </tr>\n",
       "  </thead>\n",
       "  <tbody>\n",
       "    <tr>\n",
       "      <th>count</th>\n",
       "      <td>49.000000</td>\n",
       "      <td>49.000000</td>\n",
       "      <td>49.000000</td>\n",
       "      <td>49.000000</td>\n",
       "      <td>49.000000</td>\n",
       "      <td>49.000000</td>\n",
       "      <td>49.000000</td>\n",
       "      <td>49.00000</td>\n",
       "    </tr>\n",
       "    <tr>\n",
       "      <th>mean</th>\n",
       "      <td>47613.285714</td>\n",
       "      <td>0.370633</td>\n",
       "      <td>316530.000000</td>\n",
       "      <td>269116.938776</td>\n",
       "      <td>95.816327</td>\n",
       "      <td>78.918367</td>\n",
       "      <td>5.908163</td>\n",
       "      <td>2003.44898</td>\n",
       "    </tr>\n",
       "    <tr>\n",
       "      <th>std</th>\n",
       "      <td>61059.078588</td>\n",
       "      <td>0.249991</td>\n",
       "      <td>336933.099581</td>\n",
       "      <td>305469.023384</td>\n",
       "      <td>13.358321</td>\n",
       "      <td>119.386249</td>\n",
       "      <td>0.834375</td>\n",
       "      <td>9.39650</td>\n",
       "    </tr>\n",
       "    <tr>\n",
       "      <th>min</th>\n",
       "      <td>431.000000</td>\n",
       "      <td>0.028456</td>\n",
       "      <td>1.000000</td>\n",
       "      <td>11.000000</td>\n",
       "      <td>77.000000</td>\n",
       "      <td>11.000000</td>\n",
       "      <td>3.900000</td>\n",
       "      <td>1968.00000</td>\n",
       "    </tr>\n",
       "    <tr>\n",
       "      <th>25%</th>\n",
       "      <td>13484.000000</td>\n",
       "      <td>0.181427</td>\n",
       "      <td>68.000000</td>\n",
       "      <td>200.000000</td>\n",
       "      <td>87.000000</td>\n",
       "      <td>24.000000</td>\n",
       "      <td>5.300000</td>\n",
       "      <td>1999.00000</td>\n",
       "    </tr>\n",
       "    <tr>\n",
       "      <th>50%</th>\n",
       "      <td>23949.000000</td>\n",
       "      <td>0.342912</td>\n",
       "      <td>250000.000000</td>\n",
       "      <td>154323.000000</td>\n",
       "      <td>95.000000</td>\n",
       "      <td>36.000000</td>\n",
       "      <td>5.800000</td>\n",
       "      <td>2006.00000</td>\n",
       "    </tr>\n",
       "    <tr>\n",
       "      <th>75%</th>\n",
       "      <td>58428.000000</td>\n",
       "      <td>0.476673</td>\n",
       "      <td>500000.000000</td>\n",
       "      <td>469947.000000</td>\n",
       "      <td>99.000000</td>\n",
       "      <td>74.000000</td>\n",
       "      <td>6.500000</td>\n",
       "      <td>2011.00000</td>\n",
       "    </tr>\n",
       "    <tr>\n",
       "      <th>max</th>\n",
       "      <td>308638.000000</td>\n",
       "      <td>1.072912</td>\n",
       "      <td>994000.000000</td>\n",
       "      <td>973525.000000</td>\n",
       "      <td>145.000000</td>\n",
       "      <td>615.000000</td>\n",
       "      <td>7.400000</td>\n",
       "      <td>2015.00000</td>\n",
       "    </tr>\n",
       "  </tbody>\n",
       "</table>\n",
       "</div>"
      ],
      "text/plain": [
       "                  id  popularity         budget        revenue     runtime  \\\n",
       "count      49.000000   49.000000      49.000000      49.000000   49.000000   \n",
       "mean    47613.285714    0.370633  316530.000000  269116.938776   95.816327   \n",
       "std     61059.078588    0.249991  336933.099581  305469.023384   13.358321   \n",
       "min       431.000000    0.028456       1.000000      11.000000   77.000000   \n",
       "25%     13484.000000    0.181427      68.000000     200.000000   87.000000   \n",
       "50%     23949.000000    0.342912  250000.000000  154323.000000   95.000000   \n",
       "75%     58428.000000    0.476673  500000.000000  469947.000000   99.000000   \n",
       "max    308638.000000    1.072912  994000.000000  973525.000000  145.000000   \n",
       "\n",
       "       vote_count  vote_average  release_year  \n",
       "count   49.000000     49.000000      49.00000  \n",
       "mean    78.918367      5.908163    2003.44898  \n",
       "std    119.386249      0.834375       9.39650  \n",
       "min     11.000000      3.900000    1968.00000  \n",
       "25%     24.000000      5.300000    1999.00000  \n",
       "50%     36.000000      5.800000    2006.00000  \n",
       "75%     74.000000      6.500000    2011.00000  \n",
       "max    615.000000      7.400000    2015.00000  "
      ]
     },
     "execution_count": 279,
     "metadata": {},
     "output_type": "execute_result"
    }
   ],
   "source": [
    "bud_low.describe()"
   ]
  },
  {
   "cell_type": "markdown",
   "metadata": {},
   "source": [
    "According to table below, first quartile is 38,750 USD!<br>\n",
    "It can be also investigated whether it's a logical value for a budget of a movie however this is not efficient considering the release years.<br>\n",
    "Thus, let's have a look for the rows in which the budget is less than 38750 USD!"
   ]
  },
  {
   "cell_type": "code",
   "execution_count": 280,
   "metadata": {},
   "outputs": [
    {
     "data": {
      "text/html": [
       "<div>\n",
       "<style scoped>\n",
       "    .dataframe tbody tr th:only-of-type {\n",
       "        vertical-align: middle;\n",
       "    }\n",
       "\n",
       "    .dataframe tbody tr th {\n",
       "        vertical-align: top;\n",
       "    }\n",
       "\n",
       "    .dataframe thead th {\n",
       "        text-align: right;\n",
       "    }\n",
       "</style>\n",
       "<table border=\"1\" class=\"dataframe\">\n",
       "  <thead>\n",
       "    <tr style=\"text-align: right;\">\n",
       "      <th></th>\n",
       "      <th>id</th>\n",
       "      <th>popularity</th>\n",
       "      <th>budget</th>\n",
       "      <th>revenue</th>\n",
       "      <th>runtime</th>\n",
       "      <th>vote_count</th>\n",
       "      <th>vote_average</th>\n",
       "      <th>release_year</th>\n",
       "    </tr>\n",
       "  </thead>\n",
       "  <tbody>\n",
       "    <tr>\n",
       "      <th>count</th>\n",
       "      <td>3650.000000</td>\n",
       "      <td>3650.000000</td>\n",
       "      <td>3.650000e+03</td>\n",
       "      <td>3.650000e+03</td>\n",
       "      <td>3650.000000</td>\n",
       "      <td>3650.000000</td>\n",
       "      <td>3650.000000</td>\n",
       "      <td>3650.000000</td>\n",
       "    </tr>\n",
       "    <tr>\n",
       "      <th>mean</th>\n",
       "      <td>39291.973973</td>\n",
       "      <td>1.231281</td>\n",
       "      <td>3.839655e+07</td>\n",
       "      <td>1.121042e+08</td>\n",
       "      <td>109.639178</td>\n",
       "      <td>550.632055</td>\n",
       "      <td>6.183178</td>\n",
       "      <td>2001.111507</td>\n",
       "    </tr>\n",
       "    <tr>\n",
       "      <th>std</th>\n",
       "      <td>67395.388559</td>\n",
       "      <td>1.502884</td>\n",
       "      <td>4.270682e+07</td>\n",
       "      <td>1.797823e+08</td>\n",
       "      <td>19.854484</td>\n",
       "      <td>897.454671</td>\n",
       "      <td>0.789689</td>\n",
       "      <td>11.378267</td>\n",
       "    </tr>\n",
       "    <tr>\n",
       "      <th>min</th>\n",
       "      <td>5.000000</td>\n",
       "      <td>0.010335</td>\n",
       "      <td>4.000000e+04</td>\n",
       "      <td>2.000000e+00</td>\n",
       "      <td>26.000000</td>\n",
       "      <td>10.000000</td>\n",
       "      <td>2.200000</td>\n",
       "      <td>1960.000000</td>\n",
       "    </tr>\n",
       "    <tr>\n",
       "      <th>25%</th>\n",
       "      <td>5478.250000</td>\n",
       "      <td>0.485155</td>\n",
       "      <td>1.000000e+07</td>\n",
       "      <td>1.542819e+07</td>\n",
       "      <td>96.000000</td>\n",
       "      <td>78.000000</td>\n",
       "      <td>5.700000</td>\n",
       "      <td>1995.000000</td>\n",
       "    </tr>\n",
       "    <tr>\n",
       "      <th>50%</th>\n",
       "      <td>11005.000000</td>\n",
       "      <td>0.834218</td>\n",
       "      <td>2.500000e+07</td>\n",
       "      <td>4.856021e+07</td>\n",
       "      <td>106.000000</td>\n",
       "      <td>222.000000</td>\n",
       "      <td>6.200000</td>\n",
       "      <td>2004.000000</td>\n",
       "    </tr>\n",
       "    <tr>\n",
       "      <th>75%</th>\n",
       "      <td>37906.750000</td>\n",
       "      <td>1.414530</td>\n",
       "      <td>5.000000e+07</td>\n",
       "      <td>1.307105e+08</td>\n",
       "      <td>120.000000</td>\n",
       "      <td>600.000000</td>\n",
       "      <td>6.700000</td>\n",
       "      <td>2010.000000</td>\n",
       "    </tr>\n",
       "    <tr>\n",
       "      <th>max</th>\n",
       "      <td>417859.000000</td>\n",
       "      <td>32.985763</td>\n",
       "      <td>4.250000e+08</td>\n",
       "      <td>2.781506e+09</td>\n",
       "      <td>338.000000</td>\n",
       "      <td>9767.000000</td>\n",
       "      <td>8.400000</td>\n",
       "      <td>2015.000000</td>\n",
       "    </tr>\n",
       "  </tbody>\n",
       "</table>\n",
       "</div>"
      ],
      "text/plain": [
       "                  id   popularity        budget       revenue      runtime  \\\n",
       "count    3650.000000  3650.000000  3.650000e+03  3.650000e+03  3650.000000   \n",
       "mean    39291.973973     1.231281  3.839655e+07  1.121042e+08   109.639178   \n",
       "std     67395.388559     1.502884  4.270682e+07  1.797823e+08    19.854484   \n",
       "min         5.000000     0.010335  4.000000e+04  2.000000e+00    26.000000   \n",
       "25%      5478.250000     0.485155  1.000000e+07  1.542819e+07    96.000000   \n",
       "50%     11005.000000     0.834218  2.500000e+07  4.856021e+07   106.000000   \n",
       "75%     37906.750000     1.414530  5.000000e+07  1.307105e+08   120.000000   \n",
       "max    417859.000000    32.985763  4.250000e+08  2.781506e+09   338.000000   \n",
       "\n",
       "        vote_count  vote_average  release_year  \n",
       "count  3650.000000   3650.000000   3650.000000  \n",
       "mean    550.632055      6.183178   2001.111507  \n",
       "std     897.454671      0.789689     11.378267  \n",
       "min      10.000000      2.200000   1960.000000  \n",
       "25%      78.000000      5.700000   1995.000000  \n",
       "50%     222.000000      6.200000   2004.000000  \n",
       "75%     600.000000      6.700000   2010.000000  \n",
       "max    9767.000000      8.400000   2015.000000  "
      ]
     },
     "execution_count": 280,
     "metadata": {},
     "output_type": "execute_result"
    }
   ],
   "source": [
    "ind1 = (df['budget'] >= 38750)\n",
    "df2 = df.loc[ind1, :]\n",
    "df2.describe()"
   ]
  },
  {
   "cell_type": "markdown",
   "metadata": {},
   "source": [
    "Now, let's check the **outliers** in the data!"
   ]
  },
  {
   "cell_type": "code",
   "execution_count": 281,
   "metadata": {},
   "outputs": [
    {
     "name": "stdout",
     "output_type": "stream",
     "text": [
      "The proportion of the outliers is \"0.022\" in budget column\n",
      "The proportion of the outliers is \"0.024\" in revenue column\n",
      "The proportion of the outliers is \"0.015\" in runtime column\n",
      "The proportion of the outliers is \"0.025\" in vote_count column\n"
     ]
    }
   ],
   "source": [
    "## FINDING OUTLIERS by Z-SCORES\n",
    "# budget Column\n",
    "bud_data = df2.budget.dropna()\n",
    "z1 = np.abs(stats.zscore(bud_data))\n",
    "bud_out = np.where(z1 > 3) #z=3 is the threshold in practice\n",
    "#calculating the proportion of the outliers\n",
    "print('The proportion of the outliers is \"{0:.3f}\" in budget column'.format(len(bud_out[0])/len(df2.budget)))\n",
    "#\n",
    "# revenue Column\n",
    "rev_data = df2.revenue.dropna()\n",
    "z2 = np.abs(stats.zscore(rev_data))\n",
    "rev_out = np.where(z2 > 3) #z=3 is the threshold in practice\n",
    "#calculating the proportion of the outliers\n",
    "print('The proportion of the outliers is \"{0:.3f}\" in revenue column'.format(len(rev_out[0])/len(df2.revenue)))\n",
    "#\n",
    "# runtime Column\n",
    "run_data = df2.runtime.dropna()\n",
    "z3 = np.abs(stats.zscore(run_data))\n",
    "run_out = np.where(z3 > 3) #z=3 is the threshold in practice\n",
    "#calculating the proportion of the outliers\n",
    "print('The proportion of the outliers is \"{0:.3f}\" in runtime column'.format(len(run_out[0])/len(df2.runtime)))\n",
    "#\n",
    "# vote_count Column\n",
    "vc_data = df2.vote_count.dropna()\n",
    "z4 = np.abs(stats.zscore(vc_data))\n",
    "vc_out = np.where(z4 > 3) #z=3 is the threshold in practice\n",
    "#calculating the proportion of the outliers\n",
    "print('The proportion of the outliers is \"{0:.3f}\" in vote_count column'.format(len(vc_out[0])/len(df2.vote_count)))\n",
    "#"
   ]
  },
  {
   "cell_type": "markdown",
   "metadata": {},
   "source": [
    "Above, the proportions for outliers are significantly low.<br>\n",
    "Thus, we do not have to exclude any outliers from the dataset."
   ]
  },
  {
   "cell_type": "markdown",
   "metadata": {},
   "source": [
    "Lastly, revenue itself won't provide an intuition for the success of a movie.\n",
    "Thus, let's add an additional column 'profit' which equals revenue-budget"
   ]
  },
  {
   "cell_type": "code",
   "execution_count": 282,
   "metadata": {},
   "outputs": [
    {
     "data": {
      "text/html": [
       "<div>\n",
       "<style scoped>\n",
       "    .dataframe tbody tr th:only-of-type {\n",
       "        vertical-align: middle;\n",
       "    }\n",
       "\n",
       "    .dataframe tbody tr th {\n",
       "        vertical-align: top;\n",
       "    }\n",
       "\n",
       "    .dataframe thead th {\n",
       "        text-align: right;\n",
       "    }\n",
       "</style>\n",
       "<table border=\"1\" class=\"dataframe\">\n",
       "  <thead>\n",
       "    <tr style=\"text-align: right;\">\n",
       "      <th></th>\n",
       "      <th>id</th>\n",
       "      <th>popularity</th>\n",
       "      <th>budget</th>\n",
       "      <th>revenue</th>\n",
       "      <th>original_title</th>\n",
       "      <th>cast</th>\n",
       "      <th>director</th>\n",
       "      <th>keywords</th>\n",
       "      <th>overview</th>\n",
       "      <th>runtime</th>\n",
       "      <th>genres</th>\n",
       "      <th>production_companies</th>\n",
       "      <th>release_date</th>\n",
       "      <th>vote_count</th>\n",
       "      <th>vote_average</th>\n",
       "      <th>release_year</th>\n",
       "      <th>profit</th>\n",
       "    </tr>\n",
       "  </thead>\n",
       "  <tbody>\n",
       "    <tr>\n",
       "      <th>0</th>\n",
       "      <td>135397</td>\n",
       "      <td>32.985763</td>\n",
       "      <td>150000000.0</td>\n",
       "      <td>1.513529e+09</td>\n",
       "      <td>Jurassic World</td>\n",
       "      <td>Chris Pratt|Bryce Dallas Howard|Irrfan Khan|Vi...</td>\n",
       "      <td>Colin Trevorrow</td>\n",
       "      <td>monster|dna|tyrannosaurus rex|velociraptor|island</td>\n",
       "      <td>Twenty-two years after the events of Jurassic ...</td>\n",
       "      <td>124.0</td>\n",
       "      <td>Action|Adventure|Science Fiction|Thriller</td>\n",
       "      <td>Universal Studios|Amblin Entertainment|Legenda...</td>\n",
       "      <td>2015-06-09</td>\n",
       "      <td>5562</td>\n",
       "      <td>6.5</td>\n",
       "      <td>2015</td>\n",
       "      <td>1.363529e+09</td>\n",
       "    </tr>\n",
       "  </tbody>\n",
       "</table>\n",
       "</div>"
      ],
      "text/plain": [
       "       id  popularity       budget       revenue  original_title  \\\n",
       "0  135397   32.985763  150000000.0  1.513529e+09  Jurassic World   \n",
       "\n",
       "                                                cast         director  \\\n",
       "0  Chris Pratt|Bryce Dallas Howard|Irrfan Khan|Vi...  Colin Trevorrow   \n",
       "\n",
       "                                            keywords  \\\n",
       "0  monster|dna|tyrannosaurus rex|velociraptor|island   \n",
       "\n",
       "                                            overview  runtime  \\\n",
       "0  Twenty-two years after the events of Jurassic ...    124.0   \n",
       "\n",
       "                                      genres  \\\n",
       "0  Action|Adventure|Science Fiction|Thriller   \n",
       "\n",
       "                                production_companies release_date  vote_count  \\\n",
       "0  Universal Studios|Amblin Entertainment|Legenda...   2015-06-09        5562   \n",
       "\n",
       "   vote_average  release_year        profit  \n",
       "0           6.5          2015  1.363529e+09  "
      ]
     },
     "execution_count": 282,
     "metadata": {},
     "output_type": "execute_result"
    }
   ],
   "source": [
    "df['profit']=df.revenue-df.budget\n",
    "df.head(1)"
   ]
  },
  {
   "cell_type": "markdown",
   "metadata": {},
   "source": [
    "Now, let's give a start for **'Exploratory Data Analysis'** in next section."
   ]
  },
  {
   "cell_type": "markdown",
   "metadata": {},
   "source": [
    "<a id='eda'></a>\n",
    "## Exploratory Data Analysis\n",
    "\n",
    "Based on organized and cleaned TMDb dataset, some analyzes are performed in this section in order to find answers to the 13 research questions given in the introduction section."
   ]
  },
  {
   "cell_type": "markdown",
   "metadata": {},
   "source": [
    "### Research Question 1: Which movie has longest runtime?"
   ]
  },
  {
   "cell_type": "code",
   "execution_count": 287,
   "metadata": {},
   "outputs": [
    {
     "name": "stdout",
     "output_type": "stream",
     "text": [
      "The movie has the maximum run time is 'Carlos' with '338.0' minutes!\n"
     ]
    }
   ],
   "source": [
    "max_run = df[df['runtime'] == df['runtime'].max()]\n",
    "print(\"The movie has the maximum run time is '{}' with '{}' minutes!\".format(max_run.original_title.iloc[0],max_run.runtime.iloc[0]))"
   ]
  },
  {
   "cell_type": "markdown",
   "metadata": {},
   "source": [
    "### Research Question 2: Which movie has shorthest runtime?"
   ]
  },
  {
   "cell_type": "code",
   "execution_count": 288,
   "metadata": {},
   "outputs": [
    {
     "name": "stdout",
     "output_type": "stream",
     "text": [
      "The movie has the minimum run time is 'Mickey's Christmas Carol' with '26.0' minutes!\n"
     ]
    }
   ],
   "source": [
    "min_run = df[df['runtime'] == df['runtime'].min()]\n",
    "print(\"The movie has the minimum run time is '{}' with '{}' minutes!\".format(min_run.original_title.iloc[0],min_run.runtime.iloc[0]))"
   ]
  },
  {
   "cell_type": "markdown",
   "metadata": {},
   "source": [
    "### Research Question 3: Does the most popular movie has the highest budget?"
   ]
  },
  {
   "cell_type": "code",
   "execution_count": 289,
   "metadata": {},
   "outputs": [
    {
     "name": "stdout",
     "output_type": "stream",
     "text": [
      "The most popular movie is 'Jurassic World' with '150000000.0' USD budget!\n"
     ]
    }
   ],
   "source": [
    "max_pop = df[df['popularity'] == df['popularity'].max()]\n",
    "print(\"The most popular movie is '{}' with '{}' USD budget!\".format(max_pop.original_title.iloc[0],max_pop.budget.iloc[0]))"
   ]
  },
  {
   "cell_type": "code",
   "execution_count": 290,
   "metadata": {},
   "outputs": [
    {
     "name": "stdout",
     "output_type": "stream",
     "text": [
      "The highest budget movie is 'The Warrior's Way' with '425000000.0' USD budget!\n"
     ]
    }
   ],
   "source": [
    "max_bud = df[df['budget'] == df['budget'].max()]\n",
    "print(\"The highest budget movie is '{}' with '{}' USD budget!\".format(max_bud.original_title.iloc[0],max_bud.budget.iloc[0]))"
   ]
  },
  {
   "cell_type": "markdown",
   "metadata": {},
   "source": [
    "### Research Question 4: What is the average profit for movies in TMDb?"
   ]
  },
  {
   "cell_type": "code",
   "execution_count": 291,
   "metadata": {},
   "outputs": [
    {
     "name": "stdout",
     "output_type": "stream",
     "text": [
      "The average profit for the 3677 movies in the dataset is 73325870.07 US dollars!\n",
      "However this dataset contains animations and short movies as well.\n",
      "\n",
      "If we only consider the movies that it's runtime more than (or equal to) 60 minutes\n",
      "The average profit for the 2683 movies in the dataset is 146842281.00 US dollars!\n"
     ]
    }
   ],
   "source": [
    "## NUMBER of ROWS in which the RUNTIME equals ZERO!\n",
    "msg = ('The average profit for the {} movies in the dataset is {} US dollars!\\nHowever this dataset contains animations and short movies as well.')\n",
    "msg2 = ('\\nIf we only consider the movies that it\\'s runtime more than (or equal to) 60 minutes\\nThe average profit for the {} movies in the dataset is {} US dollars!')\n",
    "nummov = df.profit.count()\n",
    "revmov = df['profit'].mean(skipna=True)\n",
    "out = msg.format(nummov, \"{0:.2f}\".format(revmov))\n",
    "print(out)\n",
    "#\n",
    "nummov2 = df[df['profit'] >=60].revenue.count()\n",
    "revmov2 = df[df['profit'] >=60].revenue.mean(skipna=True)\n",
    "out2 = msg2.format(nummov2, \"{0:.2f}\".format(revmov2))\n",
    "print(out2)"
   ]
  },
  {
   "cell_type": "markdown",
   "metadata": {},
   "source": [
    "### Research Question 5 : What is the trend of the profit based on release years of the movies?"
   ]
  },
  {
   "cell_type": "markdown",
   "metadata": {},
   "source": [
    "Let's draw a scatter plot to answer this question visually:"
   ]
  },
  {
   "cell_type": "code",
   "execution_count": 292,
   "metadata": {},
   "outputs": [
    {
     "data": {
      "image/png": "[encoded data removed]",
      "text/plain": [
       "<matplotlib.figure.Figure at 0x7f4f8beab278>"
      ]
     },
     "metadata": {
      "needs_background": "light"
     },
     "output_type": "display_data"
    }
   ],
   "source": [
    "#Subsets\n",
    "x = df.release_year\n",
    "y = df.profit\n",
    "#Colors, Area and Dimensions\n",
    "fig_size = plt.rcParams[\"figure.figsize\"]\n",
    "colors = (0,0,1)\n",
    "area = 15\n",
    "fig_size[0] = 15\n",
    "fig_size[1] = 7.5\n",
    "plt.scatter(x, y , s=area, c=colors, alpha=0.5)\n",
    "#\n",
    "plt.title('Movie Profit over Years',fontsize=25)\n",
    "plt.xlabel('Release Year',fontsize=20)\n",
    "plt.ylabel('Profit in USD',fontsize=20)\n",
    "plt.show()"
   ]
  },
  {
   "cell_type": "markdown",
   "metadata": {},
   "source": [
    "Scatter plot is relatively hard to read for people who they are not familiar with graphs!<br>\n",
    "Let's try to plot a simpler graph!<br>"
   ]
  },
  {
   "cell_type": "code",
   "execution_count": 293,
   "metadata": {},
   "outputs": [
    {
     "data": {
      "image/png": "[encoded data removed]",
      "text/plain": [
       "<matplotlib.figure.Figure at 0x7f4f82dba160>"
      ]
     },
     "metadata": {
      "needs_background": "light"
     },
     "output_type": "display_data"
    }
   ],
   "source": [
    "#Creating a group based on release year and average profit for each years\n",
    "mrev_year = df.groupby('release_year').mean()['profit']\n",
    "\n",
    "#Plot and setting the range of X-axis and step size \n",
    "mrev_year.plot(xticks = np.arange(1960,2016,5))\n",
    "#Figure size, font size and labels\n",
    "sns.set(rc={'figure.figsize':(12,5)})\n",
    "plt.title(\"Profits Over Years\",fontsize = 15)\n",
    "plt.xlabel('Release year',fontsize = 12)\n",
    "plt.ylabel('Profit in USD',fontsize = 12);"
   ]
  },
  {
   "cell_type": "markdown",
   "metadata": {},
   "source": [
    "Altough the profit is fluctuating over years, the trend is an increasing trend for the profit of the movies.<br>"
   ]
  },
  {
   "cell_type": "markdown",
   "metadata": {},
   "source": [
    "### Research Question 6 : Is there a correlation between the budget and the revenue for the movies?<br>How strong is this correlation?"
   ]
  },
  {
   "cell_type": "markdown",
   "metadata": {},
   "source": [
    "Let's draw a scatter plot for budget-revenue pairs and calculate the correlation:"
   ]
  },
  {
   "cell_type": "code",
   "execution_count": 294,
   "metadata": {},
   "outputs": [
    {
     "data": {
      "image/png": "[encoded data removed]",
      "text/plain": [
       "<matplotlib.figure.Figure at 0x7f4f82d5f278>"
      ]
     },
     "metadata": {},
     "output_type": "display_data"
    }
   ],
   "source": [
    "#Subsets\n",
    "x = df.budget\n",
    "y = df.revenue\n",
    "#Colors, Area and Dimensions\n",
    "fig_size = plt.rcParams[\"figure.figsize\"]\n",
    "colors = (0,0,1)\n",
    "area = 10\n",
    "fig_size[0] = 15\n",
    "fig_size[1] = 7.5\n",
    "plt.scatter(x, y , s=area, c=colors, alpha=0.5)\n",
    "#Calculating and setting the limits for the x-axis for a better visualization\n",
    "sor_bud = sorted(x)\n",
    "bq1, bq3= np.percentile(sor_bud,[25,99]) #setting 25% and 99% percentiles (because lower percentile movies are mostly either short movies or animations)\n",
    "plt.xlim(bq1,bq3)\n",
    "#\n",
    "sor_rev = sorted(y)\n",
    "rq1, rq3= np.percentile(sor_rev,[25,99]) #setting 25% and 99% percentiles (because lower percentile movies are mostly either short movies or animations)\n",
    "plt.ylim(rq1,rq3)\n",
    "#\n",
    "plt.scatter(x, y , s=area, c=colors, alpha=0.5)\n",
    "plt.title('Movie Budget and Revenue', fontsize=20)\n",
    "plt.xlabel('Budget',fontsize=18)\n",
    "plt.ylabel('Revenue',fontsize=18)\n",
    "plt.show()"
   ]
  },
  {
   "cell_type": "markdown",
   "metadata": {},
   "source": [
    "The positive correlation can be seen in the scatter plot above, however it's a bit hard to interpret whether there is correlation or how strong is the correlation in the plot above.<br>\n",
    "Let's calculate the correlation coefficient between revenue and budget."
   ]
  },
  {
   "cell_type": "code",
   "execution_count": 295,
   "metadata": {},
   "outputs": [
    {
     "name": "stdout",
     "output_type": "stream",
     "text": [
      "Spearmans correlation: 0.663\n"
     ]
    }
   ],
   "source": [
    "# calculate spearman's correlation\n",
    "corr, _ = spearmanr(df.budget, df.revenue)\n",
    "print('Spearmans correlation: %.3f' % corr)"
   ]
  },
  {
   "cell_type": "markdown",
   "metadata": {},
   "source": [
    "**Conclusion:**<br>\n",
    "There is a between moderate correlation (r = ~0.66) between budget and revenue.<br>"
   ]
  },
  {
   "cell_type": "markdown",
   "metadata": {},
   "source": [
    "### Research Question 7  : Is there a correlation between the average vote and the revenue for the movies?\n"
   ]
  },
  {
   "cell_type": "code",
   "execution_count": 296,
   "metadata": {},
   "outputs": [
    {
     "name": "stdout",
     "output_type": "stream",
     "text": [
      "Spearmans correlation: 0.194\n"
     ]
    }
   ],
   "source": [
    "# calculate spearman's correlation\n",
    "corr, _ = spearmanr(df.vote_average, df.revenue)\n",
    "print('Spearmans correlation: %.3f' % corr)"
   ]
  },
  {
   "cell_type": "markdown",
   "metadata": {},
   "source": [
    "**Conclusion:**<br>\n",
    "There is a very weak correlation (r = ~0.19) between average vote and revenue.<br>"
   ]
  },
  {
   "cell_type": "markdown",
   "metadata": {},
   "source": [
    "### Research Question 8  : Is there a difference between old and new movies based on their average profits?\n"
   ]
  },
  {
   "cell_type": "markdown",
   "metadata": {},
   "source": [
    "To answer this question, let's try to define what is old and what is new."
   ]
  },
  {
   "cell_type": "code",
   "execution_count": 297,
   "metadata": {},
   "outputs": [
    {
     "data": {
      "image/png": "[encoded data removed]",
      "text/plain": [
       "<matplotlib.figure.Figure at 0x7f4f82e581d0>"
      ]
     },
     "metadata": {},
     "output_type": "display_data"
    }
   ],
   "source": [
    "## Checking time range for the dataset\n",
    "#Colors, Area and Dimensions\n",
    "fig_size = plt.rcParams[\"figure.figsize\"]\n",
    "fig_size[0] = 5\n",
    "fig_size[1] = 5\n",
    "plt.title('The BOX-PLOT of Release Year', fontsize=15)\n",
    "df.boxplot(column=['release_year'],fontsize=12);"
   ]
  },
  {
   "cell_type": "markdown",
   "metadata": {},
   "source": [
    "Let's also calculate the mean value for the release years."
   ]
  },
  {
   "cell_type": "code",
   "execution_count": 298,
   "metadata": {},
   "outputs": [
    {
     "data": {
      "text/plain": [
       "2001.0"
      ]
     },
     "execution_count": 298,
     "metadata": {},
     "output_type": "execute_result"
    }
   ],
   "source": [
    "round(float(df.release_year.mean()),0)"
   ]
  },
  {
   "cell_type": "markdown",
   "metadata": {},
   "source": [
    "2001 is adjacent to 2000.\n",
    "Thus, let's call the movies\n",
    "* **Old** if they're released before 2000\n",
    "* **New** if they're released after (or in) 2000"
   ]
  },
  {
   "cell_type": "code",
   "execution_count": 299,
   "metadata": {},
   "outputs": [
    {
     "name": "stdout",
     "output_type": "stream",
     "text": [
      "The old movies have 58786145 US dollars profit in average!\n",
      "The new movies have 81449379 US dollars profit in average!\n"
     ]
    }
   ],
   "source": [
    "## CREATION of New and Old Sub-Datasets\n",
    "old_rev = df[df.release_year < 2000]\n",
    "new_rev = df[df.release_year >=2000]\n",
    "msg = 'The old movies have {} US dollars profit in average!\\nThe new movies have {} US dollars profit in average!'\n",
    "print(msg.format(\"{0:.0f}\".format(old_rev.profit.mean()),\"{0:.0f}\".format(new_rev.profit.mean())))"
   ]
  },
  {
   "cell_type": "code",
   "execution_count": 300,
   "metadata": {},
   "outputs": [
    {
     "data": {
      "image/png": "[encoded data removed]",
      "text/plain": [
       "<matplotlib.figure.Figure at 0x7f4f831e9b38>"
      ]
     },
     "metadata": {},
     "output_type": "display_data"
    }
   ],
   "source": [
    "#PLOTTING a BAR-PLOT\n",
    "old_rev.profit.hist(alpha=0.6, label='Old Movies (<2000)',figsize=(10,8))\n",
    "new_rev.profit.hist(alpha=0.6, label='New Movies (>=2000)',figsize=(10,8))\n",
    "plt.legend();\n",
    "plt.title('Old and New Comparison based on Profit', fontsize=20);\n"
   ]
  },
  {
   "cell_type": "markdown",
   "metadata": {},
   "source": [
    "**Conclusion:**<br>\n",
    "Both average revenue values for old and new movies and the histogram shows that there is a significant difference!<br>\n",
    "New movies makes more revenue.<br>\n",
    "This is also needed to be considered that comparing old and new movies based on their corresponding profits will not reflect the real difference due to there is an inflation factor. Since the inflation factor is not provided in the data, its effect won't be included in this analysis.<br>\n",
    "<br>\n",
    "**Note that:** The phrase 'a significant difference' is used considering the ratio (~1.5) between the means.<br>\n",
    "Here, the phrase is not related the statistical testing.<br>\n",
    "The difference is also can be analyzed by some statistical methods (e.g. ANOVA) but it's not the subject of this study!\n"
   ]
  },
  {
   "cell_type": "markdown",
   "metadata": {},
   "source": [
    "### Research Question 9 : Which production companies make average more profit than others? Find the top 5 company."
   ]
  },
  {
   "cell_type": "markdown",
   "metadata": {},
   "source": [
    "In the dataset the production companies are given with a pipe ('|') separator shown below:"
   ]
  },
  {
   "cell_type": "code",
   "execution_count": 301,
   "metadata": {},
   "outputs": [
    {
     "data": {
      "text/plain": [
       "0    Universal Studios|Amblin Entertainment|Legenda...\n",
       "Name: production_companies, dtype: object"
      ]
     },
     "execution_count": 301,
     "metadata": {},
     "output_type": "execute_result"
    }
   ],
   "source": [
    "df.production_companies.head(1)"
   ]
  },
  {
   "cell_type": "markdown",
   "metadata": {},
   "source": [
    "Let's split these companies and create a new table (dataframe) combined with the revenue per company value.<br>\n",
    "It will be used as a source for company-revenue dataframe in subsequent step."
   ]
  },
  {
   "cell_type": "code",
   "execution_count": 302,
   "metadata": {},
   "outputs": [
    {
     "data": {
      "text/html": [
       "<div>\n",
       "<style scoped>\n",
       "    .dataframe tbody tr th:only-of-type {\n",
       "        vertical-align: middle;\n",
       "    }\n",
       "\n",
       "    .dataframe tbody tr th {\n",
       "        vertical-align: top;\n",
       "    }\n",
       "\n",
       "    .dataframe thead th {\n",
       "        text-align: right;\n",
       "    }\n",
       "</style>\n",
       "<table border=\"1\" class=\"dataframe\">\n",
       "  <thead>\n",
       "    <tr style=\"text-align: right;\">\n",
       "      <th></th>\n",
       "      <th>co1</th>\n",
       "      <th>co2</th>\n",
       "      <th>co3</th>\n",
       "      <th>co4</th>\n",
       "      <th>co5</th>\n",
       "      <th>totco</th>\n",
       "      <th>profit</th>\n",
       "      <th>profit_perco</th>\n",
       "    </tr>\n",
       "  </thead>\n",
       "  <tbody>\n",
       "    <tr>\n",
       "      <th>0</th>\n",
       "      <td>Universal Studios</td>\n",
       "      <td>Amblin Entertainment</td>\n",
       "      <td>Legendary Pictures</td>\n",
       "      <td>Fuji Television Network</td>\n",
       "      <td>Dentsu</td>\n",
       "      <td>5</td>\n",
       "      <td>1.363529e+09</td>\n",
       "      <td>2.727058e+08</td>\n",
       "    </tr>\n",
       "    <tr>\n",
       "      <th>1</th>\n",
       "      <td>Village Roadshow Pictures</td>\n",
       "      <td>Kennedy Miller Productions</td>\n",
       "      <td>None</td>\n",
       "      <td>None</td>\n",
       "      <td>None</td>\n",
       "      <td>2</td>\n",
       "      <td>2.284364e+08</td>\n",
       "      <td>1.142182e+08</td>\n",
       "    </tr>\n",
       "    <tr>\n",
       "      <th>2</th>\n",
       "      <td>Summit Entertainment</td>\n",
       "      <td>Mandeville Films</td>\n",
       "      <td>Red Wagon Entertainment</td>\n",
       "      <td>NeoReel</td>\n",
       "      <td>None</td>\n",
       "      <td>4</td>\n",
       "      <td>1.852382e+08</td>\n",
       "      <td>4.630955e+07</td>\n",
       "    </tr>\n",
       "  </tbody>\n",
       "</table>\n",
       "</div>"
      ],
      "text/plain": [
       "                         co1                         co2  \\\n",
       "0          Universal Studios        Amblin Entertainment   \n",
       "1  Village Roadshow Pictures  Kennedy Miller Productions   \n",
       "2       Summit Entertainment            Mandeville Films   \n",
       "\n",
       "                       co3                      co4     co5  totco  \\\n",
       "0       Legendary Pictures  Fuji Television Network  Dentsu      5   \n",
       "1                     None                     None    None      2   \n",
       "2  Red Wagon Entertainment                  NeoReel    None      4   \n",
       "\n",
       "         profit  profit_perco  \n",
       "0  1.363529e+09  2.727058e+08  \n",
       "1  2.284364e+08  1.142182e+08  \n",
       "2  1.852382e+08  4.630955e+07  "
      ]
     },
     "execution_count": 302,
     "metadata": {},
     "output_type": "execute_result"
    }
   ],
   "source": [
    "#SPLIT THE COMPANIES for each MOVIE\n",
    "comp_split = df[\"production_companies\"].str.split(\"|\", n = 5, expand = True)\n",
    "comp_split.columns = ['co1','co2','co3','co4','co5']\n",
    "#ADDITIONAL COLUMN for NUMBER OF COMPANIES for each MOVIE\n",
    "comp_split['totco']=5-comp_split[['co1','co2','co3','co4','co5']].isnull().sum(axis=1)\n",
    "#ADDING THE PROFIT COLUMN to the SPLITTED COMPANY DATA FRAME\n",
    "comp_split['profit']=df.profit\n",
    "#ADDITIONAL COLUMN for AVERAGE PROFIT (Assumed all companies gets equal share from the profit)\n",
    "comp_split['profit_perco']=comp_split['profit']/comp_split['totco']\n",
    "comp_split.head(3)"
   ]
  },
  {
   "cell_type": "markdown",
   "metadata": {},
   "source": [
    "Now, let's create a dataframe which hold companies and their average profits!"
   ]
  },
  {
   "cell_type": "code",
   "execution_count": 303,
   "metadata": {},
   "outputs": [],
   "source": [
    "comps = pd.concat([comp_split.co1,comp_split.co2,comp_split.co3,comp_split.co4,comp_split.co5]).reset_index(drop=True)\n",
    "profs = pd.concat([comp_split.profit_perco,comp_split.profit_perco,comp_split.profit_perco,comp_split.profit_perco,comp_split.profit_perco]).reset_index(drop=True)\n",
    "com_pro = pd.concat([comps, profs], axis=1, sort=False).dropna().reset_index(drop=True)\n",
    "com_pro.columns = ['company','total_profit']\n",
    "com_pro = {comp: com_pro.total_profit[com_pro.company == comp].mean() for comp in np.unique(com_pro.company)}"
   ]
  },
  {
   "cell_type": "markdown",
   "metadata": {},
   "source": [
    "Let's show the **top-5 company** based on their average profits:"
   ]
  },
  {
   "cell_type": "code",
   "execution_count": 304,
   "metadata": {},
   "outputs": [
    {
     "data": {
      "text/plain": [
       "{'Truenorth Productions': 622726075.0,\n",
       " 'Marvel Studios': 444511209.1736111,\n",
       " 'Lucasfilm': 304373054.25,\n",
       " 'Illumination Entertainment': 285180087.10000002,\n",
       " 'Disney Enterprises': 256875326.0}"
      ]
     },
     "execution_count": 304,
     "metadata": {},
     "output_type": "execute_result"
    }
   ],
   "source": [
    "top5_com = {key: com_pro[key] for key in sorted(com_pro, key=com_pro.get, reverse=True)[:5]}\n",
    "top5_com"
   ]
  },
  {
   "cell_type": "code",
   "execution_count": 305,
   "metadata": {},
   "outputs": [
    {
     "data": {
      "image/png": "[encoded data removed]",
      "text/plain": [
       "<matplotlib.figure.Figure at 0x7f4f8358a240>"
      ]
     },
     "metadata": {},
     "output_type": "display_data"
    }
   ],
   "source": [
    "fig_size = plt.rcParams[\"figure.figsize\"];\n",
    "fig_size[0] = 15\n",
    "fig_size[1] = 7.5\n",
    "pd.DataFrame(top5_com, index=['']).plot(kind='bar');\n",
    "#\n",
    "plt.title('Average Profits - Top 5 Production Companies',fontsize=25)\n",
    "plt.xlabel('Companies',fontsize=20);\n",
    "plt.ylabel('Average Profit in USD',fontsize=20);"
   ]
  },
  {
   "cell_type": "markdown",
   "metadata": {},
   "source": [
    "### Research Question 10 : Which movies make more money based on movie genre? Show top 5 genres."
   ]
  },
  {
   "cell_type": "code",
   "execution_count": 306,
   "metadata": {},
   "outputs": [
    {
     "data": {
      "text/html": [
       "<div>\n",
       "<style scoped>\n",
       "    .dataframe tbody tr th:only-of-type {\n",
       "        vertical-align: middle;\n",
       "    }\n",
       "\n",
       "    .dataframe tbody tr th {\n",
       "        vertical-align: top;\n",
       "    }\n",
       "\n",
       "    .dataframe thead th {\n",
       "        text-align: right;\n",
       "    }\n",
       "</style>\n",
       "<table border=\"1\" class=\"dataframe\">\n",
       "  <thead>\n",
       "    <tr style=\"text-align: right;\">\n",
       "      <th></th>\n",
       "      <th>g1</th>\n",
       "      <th>g2</th>\n",
       "      <th>g3</th>\n",
       "      <th>g4</th>\n",
       "      <th>g5</th>\n",
       "      <th>profit</th>\n",
       "      <th>totgen</th>\n",
       "      <th>profit_pergen</th>\n",
       "    </tr>\n",
       "  </thead>\n",
       "  <tbody>\n",
       "    <tr>\n",
       "      <th>0</th>\n",
       "      <td>Action</td>\n",
       "      <td>Adventure</td>\n",
       "      <td>Science Fiction</td>\n",
       "      <td>Thriller</td>\n",
       "      <td>None</td>\n",
       "      <td>1.363529e+09</td>\n",
       "      <td>4</td>\n",
       "      <td>340882202.5</td>\n",
       "    </tr>\n",
       "    <tr>\n",
       "      <th>1</th>\n",
       "      <td>Action</td>\n",
       "      <td>Adventure</td>\n",
       "      <td>Science Fiction</td>\n",
       "      <td>Thriller</td>\n",
       "      <td>None</td>\n",
       "      <td>2.284364e+08</td>\n",
       "      <td>4</td>\n",
       "      <td>57109088.5</td>\n",
       "    </tr>\n",
       "    <tr>\n",
       "      <th>2</th>\n",
       "      <td>Adventure</td>\n",
       "      <td>Science Fiction</td>\n",
       "      <td>Thriller</td>\n",
       "      <td>None</td>\n",
       "      <td>None</td>\n",
       "      <td>1.852382e+08</td>\n",
       "      <td>3</td>\n",
       "      <td>61746067.0</td>\n",
       "    </tr>\n",
       "  </tbody>\n",
       "</table>\n",
       "</div>"
      ],
      "text/plain": [
       "          g1               g2               g3        g4    g5        profit  \\\n",
       "0     Action        Adventure  Science Fiction  Thriller  None  1.363529e+09   \n",
       "1     Action        Adventure  Science Fiction  Thriller  None  2.284364e+08   \n",
       "2  Adventure  Science Fiction         Thriller      None  None  1.852382e+08   \n",
       "\n",
       "   totgen  profit_pergen  \n",
       "0       4    340882202.5  \n",
       "1       4     57109088.5  \n",
       "2       3     61746067.0  "
      ]
     },
     "execution_count": 306,
     "metadata": {},
     "output_type": "execute_result"
    }
   ],
   "source": [
    "gen_split = df[\"genres\"].str.split(\"|\", n = 5, expand = True)\n",
    "gen_split.columns = ['g1','g2','g3','g4','g5']\n",
    "#ADDING THE PROFIT COLUMN to the SPLITTED GENRE DATA FRAME\n",
    "gen_split['profit']=df.profit\n",
    "#ADDITIONAL COLUMN for NUMBER OF GENRES for each MOVIE\n",
    "gen_split['totgen']=5-gen_split[['g1','g2','g3','g4','g5']].isnull().sum(axis=1)\n",
    "#ADDING THE PROFIT COLUMN to the SPLITTED GENRE DATA FRAME\n",
    "gen_split['profit']=df.profit\n",
    "#ADDITIONAL COLUMN for AVERAGE PROFIT (Assumed all genres make equal profit for in a row!)\n",
    "gen_split['profit_pergen']=gen_split['profit']/gen_split['totgen']\n",
    "gen_split.head(3)"
   ]
  },
  {
   "cell_type": "markdown",
   "metadata": {},
   "source": [
    "Now, let's create a dataframe which hold genres and their corresponding average profits!"
   ]
  },
  {
   "cell_type": "code",
   "execution_count": 307,
   "metadata": {},
   "outputs": [],
   "source": [
    "genres = pd.concat([gen_split.g1,gen_split.g2,gen_split.g3,gen_split.g4,gen_split.g5]).reset_index(drop=True)\n",
    "profs_g = pd.concat([gen_split.profit_pergen,gen_split.profit_pergen,gen_split.profit_pergen,gen_split.profit_pergen,gen_split.profit_pergen]).reset_index(drop=True)\n",
    "gen_pro = pd.concat([genres, profs_g], axis=1, sort=False).dropna().reset_index(drop=True)\n",
    "gen_pro.columns = ['genre','total_profit']\n",
    "gen_pro = {comp: gen_pro.total_profit[gen_pro.genre == comp].mean() for comp in np.unique(gen_pro.genre)}"
   ]
  },
  {
   "cell_type": "markdown",
   "metadata": {},
   "source": [
    "Let's show the **top-5 genres** based on their average profits:"
   ]
  },
  {
   "cell_type": "code",
   "execution_count": 308,
   "metadata": {},
   "outputs": [
    {
     "data": {
      "text/plain": [
       "{'Animation': 56622069.889572643,\n",
       " 'Adventure': 45467768.290689655,\n",
       " 'Family': 45251716.644458234,\n",
       " 'Fantasy': 44572948.669567101,\n",
       " 'Science Fiction': 32757067.670882355}"
      ]
     },
     "execution_count": 308,
     "metadata": {},
     "output_type": "execute_result"
    }
   ],
   "source": [
    "top5_gen = {key: gen_pro[key] for key in sorted(gen_pro, key=gen_pro.get, reverse=True)[:5]}\n",
    "top5_gen"
   ]
  },
  {
   "cell_type": "code",
   "execution_count": 309,
   "metadata": {},
   "outputs": [
    {
     "data": {
      "image/png": "[encoded data removed]",
      "text/plain": [
       "<matplotlib.figure.Figure at 0x7f4f8ba23940>"
      ]
     },
     "metadata": {},
     "output_type": "display_data"
    }
   ],
   "source": [
    "fig_size = plt.rcParams[\"figure.figsize\"];\n",
    "fig_size[0] = 15\n",
    "fig_size[1] = 7.5\n",
    "pd.DataFrame(top5_gen, index=['']).plot(kind='bar');\n",
    "#\n",
    "plt.title('Average Profits Based on Movie Genres',fontsize=25)\n",
    "plt.xlabel('Genres',fontsize=20);\n",
    "plt.ylabel('Average Profit in USD',fontsize=20);"
   ]
  },
  {
   "cell_type": "markdown",
   "metadata": {},
   "source": [
    "<a id='conclusions'></a>\n",
    "## Conclusions\n",
    "<br>\n",
    "According to processed data (TMDb):<br>\n",
    "\n",
    "**The longest and shortest movies:**<br>\n",
    "The movie has the maximum run time is 'Carlos' with '338.0' minutes!<br>\n",
    "The movie has the minimum run time is 'Mickey's Christmas Carol' with '26.0' minutes!<br>\n",
    "<br>\n",
    "**The most popular and the most expensive movie:**<br>\n",
    "The most popular film is 'Jurassic World' however it's not the movie which has the highest budget!<br>\n",
    "The movie which has the highest budget is 'The Warrior's Way 'with '425,000,000' USD<br>\n",
    "<br>\n",
    "**Average profits (See limitations for the monetary unit):**<br>\n",
    "The average profit for the 3677 movies in the dataset is 73,325,870 US dollars!<br>\n",
    "However this dataset contains animations and short movies as well.<br>\n",
    "<br>\n",
    "If we only consider the movies that it's runtime more than (or equal to) 60 minutes.<br>\n",
    "The average profit for the 2683 movies in the dataset is 146,842,281 US dollars!<br>\n",
    "<br>\n",
    "**The profit trend for the movies over years:**<br>\n",
    "Altough the profit is fluctuating over years, the trend is an increasing trend for the profit of the movies.<br>\n",
    "<br>\n",
    "**Some correlations:**<br>\n",
    "There is a moderate correlation (r = ~0.66) between budget and revenue.<br>\n",
    "There is a very weak correlation (r = ~0.19) between average vote and revenue.<br>\n",
    "It can not be inferred a causal relationship from a sample to population! This means that given correlation values should not be use as a reference for all movies in the world however this numbers give an insight for the 3677 movies given here.<br>\n",
    "<br>\n",
    "**Profitability Comparison between New and Old Movies:**<br>\n",
    "Given dataset includes the movies relased between 1960 and 2015.<br>\n",
    "Thus, here movies were categorized based on their release years as follows:<br>\n",
    "***Old*** if they're released before 2000<br>\n",
    "***New*** if they're released after (or in) 2000<br>\n",
    "New movies makes more profit than old movies.<br>\n",
    "This is also needed to be considered that comparing old and new movies based on their corresponding profits will not reflect the real difference due to there is an inflation factor. Since the inflation factor is not provided in the data, its effect won't be included in this analysis.<br>\n",
    "<br>\n",
    "**Note that**: The phrase 'a significant difference' is used by considering the significant ratio (~1.5) between the average profits.<br>\n",
    "Here, the phrase is not related any statistical testing.<br>\n",
    "The difference is also can be analyzed by some statistical methods (e.g. ANOVA) but it's not the subject of this study.<br>\n",
    "<br>\n",
    "**Top-5 Company (Based on their average profits):**<br>\n",
    "'Truenorth Productions': 622,726,075 USD<br>\n",
    "'Marvel Studios': 444,511,209 USD<br>\n",
    "'Lucasfilm': 304,373,054 USD<br>\n",
    "'Illumination Entertainment': 285,180,087 USD<br>\n",
    "'Disney Enterprises': 256,875,326 USD<br>\n",
    "<br>\n",
    "First 3 of those companies exceeds 300 million USD profit in average!<br>\n",
    "\n",
    "**Top-5 Company (Based on their average profits):**<br>\n",
    "'Animation': 56,622,069 USD<br>\n",
    "'Adventure': 45,467,768 USD<br>\n",
    "'Family': 45,251,716 USD<br>\n",
    "'Fantasy': 44,572,948 USD<br>\n",
    "'Science Fiction': 32,757,067 USD<br>\n",
    "<br>\n",
    "According to the movie database, Animation genre movies make highest average profits between 1960 and 2015.<br>\n",
    "After animation genre, following 3 genres Adventure, Family and Fantasy genre movies make higher profits than other genre movies. These genres almost make same average profit<br>\n",
    "Last genre in top5 list is 'Science Fiction' and there is a significant difference between 'Science Fiction' and first 4 genre movies.\n",
    "<br>\n",
    "<br>\n",
    "**Limitations:**<br>\n",
    "Raw data contain 10866 rows for movie id.<br>\n",
    "However, the raw data also contain missing values.<br>\n",
    "Thus, after cleaning the raw data, 3677 rows remained.<br>\n",
    "<br>\n",
    "In the data, monetary unit and the unit for runtime were missing.<br>\n",
    "One of the most popular movies was investigated externally and it's found that the monetary unit is USD.<br>\n",
    "There might be differences for monetary units between movies based on their production companies however there is no information for that in the raw data. Thus, the monetary unit is assummed as USD for all movies in the dataset.<br>\n",
    "<br>\n",
    "Also, inflation rates were not given for the movies. This is also ignored in the analysis.<br>\n",
    "Reported by Ugur Uresin, MSc.<br>\n",
    "2019/08/09"
   ]
  }
 ],
 "metadata": {
  "kernelspec": {
   "display_name": "Python 3",
   "language": "python",
   "name": "python3"
  },
  "language_info": {
   "codemirror_mode": {
    "name": "ipython",
    "version": 3
   },
   "file_extension": ".py",
   "mimetype": "text/x-python",
   "name": "python",
   "nbconvert_exporter": "python",
   "pygments_lexer": "ipython3",
   "version": "3.8.8"
  }
 },
 "nbformat": 4,
 "nbformat_minor": 2
}
